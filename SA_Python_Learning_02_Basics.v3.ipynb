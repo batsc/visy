{
 "metadata": {
  "anaconda-cloud": {},
  "kernelspec": {
   "display_name": "Python [default]",
   "language": "python",
   "name": "python2"
  },
  "language_info": {
   "codemirror_mode": {
    "name": "ipython",
    "version": 2
   },
   "file_extension": ".py",
   "mimetype": "text/x-python",
   "name": "python",
   "nbconvert_exporter": "python",
   "pygments_lexer": "ipython2",
   "version": "2.7.12"
  },
  "name": ""
 },
 "nbformat": 3,
 "nbformat_minor": 0,
 "worksheets": [
  {
   "cells": [
    {
     "cell_type": "heading",
     "level": 1,
     "metadata": {},
     "source": [
      "Functions"
     ]
    },
    {
     "cell_type": "code",
     "collapsed": true,
     "input": [
      "# Define a simple function\n",
      "def my_func(a, b=2, c=None):\n",
      "    \"\"\"\n",
      "    This is a docstring in which you describe what the\n",
      "    function does. You can print this docstring by\n",
      "    typing 'help(my_func)'.\n",
      "    \n",
      "    \"\"\"\n",
      "    print \"1st argument = \" + str(a)\n",
      "    \n",
      "    if c is not None:\n",
      "        return b"
     ],
     "language": "python",
     "metadata": {},
     "outputs": [],
     "prompt_number": 7
    },
    {
     "cell_type": "code",
     "collapsed": false,
     "input": [
      "help(my_func)"
     ],
     "language": "python",
     "metadata": {},
     "outputs": [
      {
       "output_type": "stream",
       "stream": "stdout",
       "text": [
        "Help on function my_func in module __main__:\n",
        "\n",
        "my_func(a, b=2, c=None)\n",
        "    This is a docstring in which you describe what the\n",
        "    function does. You can print this docstring by\n",
        "    typing 'help(my_func)'.\n",
        "\n"
       ]
      }
     ],
     "prompt_number": 9
    },
    {
     "cell_type": "code",
     "collapsed": false,
     "input": [
      "my_func(34)"
     ],
     "language": "python",
     "metadata": {
      "scrolled": true
     },
     "outputs": [
      {
       "output_type": "stream",
       "stream": "stdout",
       "text": [
        "1st argument = 34\n"
       ]
      }
     ],
     "prompt_number": 10
    },
    {
     "cell_type": "code",
     "collapsed": false,
     "input": [
      "my_func(23, c='anything')"
     ],
     "language": "python",
     "metadata": {},
     "outputs": [
      {
       "output_type": "stream",
       "stream": "stdout",
       "text": [
        "1st argument = 23\n"
       ]
      },
      {
       "metadata": {},
       "output_type": "pyout",
       "prompt_number": 12,
       "text": [
        "2"
       ]
      }
     ],
     "prompt_number": 12
    },
    {
     "cell_type": "code",
     "collapsed": false,
     "input": [
      "d = my_func(23, c='anything')\n",
      "print d"
     ],
     "language": "python",
     "metadata": {},
     "outputs": [
      {
       "output_type": "stream",
       "stream": "stdout",
       "text": [
        "1st argument = 23\n",
        "2\n"
       ]
      }
     ],
     "prompt_number": 13
    },
    {
     "cell_type": "code",
     "collapsed": false,
     "input": [
      "d = my_func(23, c='anything', b=6)\n",
      "print d"
     ],
     "language": "python",
     "metadata": {},
     "outputs": [
      {
       "output_type": "stream",
       "stream": "stdout",
       "text": [
        "1st argument = 23\n",
        "6\n"
       ]
      }
     ],
     "prompt_number": 14
    },
    {
     "cell_type": "code",
     "collapsed": false,
     "input": [
      "# Optional arguments must go after required arguments\n",
      "d = my_func(b=6, 23)"
     ],
     "language": "python",
     "metadata": {},
     "outputs": [
      {
       "ename": "SyntaxError",
       "evalue": "non-keyword arg after keyword arg (<ipython-input-15-0f142c872c36>, line 2)",
       "output_type": "pyerr",
       "traceback": [
        "\u001b[0;36m  File \u001b[0;32m\"<ipython-input-15-0f142c872c36>\"\u001b[0;36m, line \u001b[0;32m2\u001b[0m\n\u001b[0;31m    d = my_func(b=6, 23)\u001b[0m\n\u001b[0;31mSyntaxError\u001b[0m\u001b[0;31m:\u001b[0m non-keyword arg after keyword arg\n"
       ]
      }
     ],
     "prompt_number": 15
    },
    {
     "cell_type": "markdown",
     "metadata": {},
     "source": [
      "# Modules\n",
      "Modules are Python scripts that contain defined objects (variables, functions, etc)."
     ]
    },
    {
     "cell_type": "code",
     "collapsed": false,
     "input": [
      "# Import the Python standard library module 'os' for performing operating system commands\n",
      "import os\n",
      "dir(os)"
     ],
     "language": "python",
     "metadata": {},
     "outputs": [
      {
       "metadata": {},
       "output_type": "pyout",
       "prompt_number": 17,
       "text": [
        "['EX_CANTCREAT',\n",
        " 'EX_CONFIG',\n",
        " 'EX_DATAERR',\n",
        " 'EX_IOERR',\n",
        " 'EX_NOHOST',\n",
        " 'EX_NOINPUT',\n",
        " 'EX_NOPERM',\n",
        " 'EX_NOUSER',\n",
        " 'EX_OK',\n",
        " 'EX_OSERR',\n",
        " 'EX_OSFILE',\n",
        " 'EX_PROTOCOL',\n",
        " 'EX_SOFTWARE',\n",
        " 'EX_TEMPFAIL',\n",
        " 'EX_UNAVAILABLE',\n",
        " 'EX_USAGE',\n",
        " 'F_OK',\n",
        " 'NGROUPS_MAX',\n",
        " 'O_APPEND',\n",
        " 'O_ASYNC',\n",
        " 'O_CREAT',\n",
        " 'O_DIRECT',\n",
        " 'O_DIRECTORY',\n",
        " 'O_DSYNC',\n",
        " 'O_EXCL',\n",
        " 'O_LARGEFILE',\n",
        " 'O_NDELAY',\n",
        " 'O_NOATIME',\n",
        " 'O_NOCTTY',\n",
        " 'O_NOFOLLOW',\n",
        " 'O_NONBLOCK',\n",
        " 'O_RDONLY',\n",
        " 'O_RDWR',\n",
        " 'O_RSYNC',\n",
        " 'O_SYNC',\n",
        " 'O_TRUNC',\n",
        " 'O_WRONLY',\n",
        " 'P_NOWAIT',\n",
        " 'P_NOWAITO',\n",
        " 'P_WAIT',\n",
        " 'R_OK',\n",
        " 'SEEK_CUR',\n",
        " 'SEEK_END',\n",
        " 'SEEK_SET',\n",
        " 'TMP_MAX',\n",
        " 'UserDict',\n",
        " 'WCONTINUED',\n",
        " 'WCOREDUMP',\n",
        " 'WEXITSTATUS',\n",
        " 'WIFCONTINUED',\n",
        " 'WIFEXITED',\n",
        " 'WIFSIGNALED',\n",
        " 'WIFSTOPPED',\n",
        " 'WNOHANG',\n",
        " 'WSTOPSIG',\n",
        " 'WTERMSIG',\n",
        " 'WUNTRACED',\n",
        " 'W_OK',\n",
        " 'X_OK',\n",
        " '_Environ',\n",
        " '__all__',\n",
        " '__builtins__',\n",
        " '__doc__',\n",
        " '__file__',\n",
        " '__name__',\n",
        " '__package__',\n",
        " '_copy_reg',\n",
        " '_execvpe',\n",
        " '_exists',\n",
        " '_exit',\n",
        " '_get_exports_list',\n",
        " '_make_stat_result',\n",
        " '_make_statvfs_result',\n",
        " '_pickle_stat_result',\n",
        " '_pickle_statvfs_result',\n",
        " '_spawnvef',\n",
        " 'abort',\n",
        " 'access',\n",
        " 'altsep',\n",
        " 'chdir',\n",
        " 'chmod',\n",
        " 'chown',\n",
        " 'chroot',\n",
        " 'close',\n",
        " 'closerange',\n",
        " 'confstr',\n",
        " 'confstr_names',\n",
        " 'ctermid',\n",
        " 'curdir',\n",
        " 'defpath',\n",
        " 'devnull',\n",
        " 'dup',\n",
        " 'dup2',\n",
        " 'environ',\n",
        " 'errno',\n",
        " 'error',\n",
        " 'execl',\n",
        " 'execle',\n",
        " 'execlp',\n",
        " 'execlpe',\n",
        " 'execv',\n",
        " 'execve',\n",
        " 'execvp',\n",
        " 'execvpe',\n",
        " 'extsep',\n",
        " 'fchdir',\n",
        " 'fchmod',\n",
        " 'fchown',\n",
        " 'fdatasync',\n",
        " 'fdopen',\n",
        " 'fork',\n",
        " 'forkpty',\n",
        " 'fpathconf',\n",
        " 'fstat',\n",
        " 'fstatvfs',\n",
        " 'fsync',\n",
        " 'ftruncate',\n",
        " 'getcwd',\n",
        " 'getcwdu',\n",
        " 'getegid',\n",
        " 'getenv',\n",
        " 'geteuid',\n",
        " 'getgid',\n",
        " 'getgroups',\n",
        " 'getloadavg',\n",
        " 'getlogin',\n",
        " 'getpgid',\n",
        " 'getpgrp',\n",
        " 'getpid',\n",
        " 'getppid',\n",
        " 'getresgid',\n",
        " 'getresuid',\n",
        " 'getsid',\n",
        " 'getuid',\n",
        " 'initgroups',\n",
        " 'isatty',\n",
        " 'kill',\n",
        " 'killpg',\n",
        " 'lchown',\n",
        " 'linesep',\n",
        " 'link',\n",
        " 'listdir',\n",
        " 'lseek',\n",
        " 'lstat',\n",
        " 'major',\n",
        " 'makedev',\n",
        " 'makedirs',\n",
        " 'minor',\n",
        " 'mkdir',\n",
        " 'mkfifo',\n",
        " 'mknod',\n",
        " 'name',\n",
        " 'nice',\n",
        " 'open',\n",
        " 'openpty',\n",
        " 'pardir',\n",
        " 'path',\n",
        " 'pathconf',\n",
        " 'pathconf_names',\n",
        " 'pathsep',\n",
        " 'pipe',\n",
        " 'popen',\n",
        " 'popen2',\n",
        " 'popen3',\n",
        " 'popen4',\n",
        " 'putenv',\n",
        " 'read',\n",
        " 'readlink',\n",
        " 'remove',\n",
        " 'removedirs',\n",
        " 'rename',\n",
        " 'renames',\n",
        " 'rmdir',\n",
        " 'sep',\n",
        " 'setegid',\n",
        " 'seteuid',\n",
        " 'setgid',\n",
        " 'setgroups',\n",
        " 'setpgid',\n",
        " 'setpgrp',\n",
        " 'setregid',\n",
        " 'setresgid',\n",
        " 'setresuid',\n",
        " 'setreuid',\n",
        " 'setsid',\n",
        " 'setuid',\n",
        " 'spawnl',\n",
        " 'spawnle',\n",
        " 'spawnlp',\n",
        " 'spawnlpe',\n",
        " 'spawnv',\n",
        " 'spawnve',\n",
        " 'spawnvp',\n",
        " 'spawnvpe',\n",
        " 'stat',\n",
        " 'stat_float_times',\n",
        " 'stat_result',\n",
        " 'statvfs',\n",
        " 'statvfs_result',\n",
        " 'strerror',\n",
        " 'symlink',\n",
        " 'sys',\n",
        " 'sysconf',\n",
        " 'sysconf_names',\n",
        " 'system',\n",
        " 'tcgetpgrp',\n",
        " 'tcsetpgrp',\n",
        " 'tempnam',\n",
        " 'times',\n",
        " 'tmpfile',\n",
        " 'tmpnam',\n",
        " 'ttyname',\n",
        " 'umask',\n",
        " 'uname',\n",
        " 'unlink',\n",
        " 'unsetenv',\n",
        " 'urandom',\n",
        " 'utime',\n",
        " 'wait',\n",
        " 'wait3',\n",
        " 'wait4',\n",
        " 'waitpid',\n",
        " 'walk',\n",
        " 'write']"
       ]
      }
     ],
     "prompt_number": 17
    },
    {
     "cell_type": "code",
     "collapsed": false,
     "input": [
      "os.listdir('./')"
     ],
     "language": "python",
     "metadata": {},
     "outputs": [
      {
       "metadata": {},
       "output_type": "pyout",
       "prompt_number": 21,
       "text": [
        "['testfile.txt',\n",
        " 'SA_Python_Learning_02_Basics.ipynb',\n",
        " '.ipynb_checkpoints',\n",
        " 'SA_Python_Learning_01_Basics.ipynb']"
       ]
      }
     ],
     "prompt_number": 21
    },
    {
     "cell_type": "code",
     "collapsed": false,
     "input": [
      "# The os.path submodule provides functions for querying files and directories\n",
      "for name in os.listdir('./'):\n",
      "    msg = \"is a file\" if os.path.isfile(name) else \"is not a file\"  # Short-hand conditional expression\n",
      "    print \"{} {}\".format(name, msg)"
     ],
     "language": "python",
     "metadata": {},
     "outputs": [
      {
       "output_type": "stream",
       "stream": "stdout",
       "text": [
        "testfile.txt is a file\n",
        "SA_Python_Learning_02_Basics.ipynb is a file\n",
        ".ipynb_checkpoints is not a file\n",
        "SA_Python_Learning_01_Basics.ipynb is a file\n"
       ]
      }
     ],
     "prompt_number": 24
    },
    {
     "cell_type": "code",
     "collapsed": false,
     "input": [
      "# Submodules (or any object) can be imported on their own using the 'from x import y' syntax\n",
      "from os import path\n",
      "path.abspath('./')"
     ],
     "language": "python",
     "metadata": {},
     "outputs": [
      {
       "metadata": {},
       "output_type": "pyout",
       "prompt_number": 26,
       "text": [
        "'/home/batsc/python/notebooks'"
       ]
      }
     ],
     "prompt_number": 26
    },
    {
     "cell_type": "code",
     "collapsed": false,
     "input": [
      "# Or if you wish to temporarily rename it for whatever reason, use 'as'\n",
      "import os.path as p\n",
      "p.abspath('./')"
     ],
     "language": "python",
     "metadata": {},
     "outputs": [
      {
       "metadata": {},
       "output_type": "pyout",
       "prompt_number": 27,
       "text": [
        "'/home/batsc/python/notebooks'"
       ]
      }
     ],
     "prompt_number": 27
    },
    {
     "cell_type": "markdown",
     "metadata": {},
     "source": [
      "# NumPy\n",
      "* The fundamental package for scientific computing with Python\n",
      "* Uses pre-compiled C libraries for fast calculations\n",
      "* Supports a much greater variety of numerical types than Python does:\n",
      " * int16, int32, int64, uint8, float16, complex64, etc.\n",
      "* Introduces a powerful N-dimensional array object"
     ]
    },
    {
     "cell_type": "code",
     "collapsed": true,
     "input": [
      "# Standard method to import numpy\n",
      "import numpy as np"
     ],
     "language": "python",
     "metadata": {},
     "outputs": [],
     "prompt_number": 3
    },
    {
     "cell_type": "code",
     "collapsed": false,
     "input": [
      "# You can create N-dim array by converting Python array-like objects\n",
      "numbers = [3, 67, 20]\n",
      "numbers_array = np.array(numbers)\n",
      "print numbers_array, type(numbers_array)"
     ],
     "language": "python",
     "metadata": {},
     "outputs": [
      {
       "output_type": "stream",
       "stream": "stdout",
       "text": [
        "[ 3 67 20] <type 'numpy.ndarray'>\n"
       ]
      }
     ],
     "prompt_number": 4
    },
    {
     "cell_type": "code",
     "collapsed": false,
     "input": [
      "# Numpy arrays have an associated type, given by 'dtype'\n",
      "print numbers_array.dtype"
     ],
     "language": "python",
     "metadata": {},
     "outputs": [
      {
       "output_type": "stream",
       "stream": "stdout",
       "text": [
        "int64\n"
       ]
      }
     ],
     "prompt_number": 5
    },
    {
     "cell_type": "code",
     "collapsed": false,
     "input": [
      "# Conversion is straightforward\n",
      "my_32bit_floats = numbers_array.astype(np.float32)\n",
      "print my_32bit_floats, my_32bit_floats.dtype"
     ],
     "language": "python",
     "metadata": {},
     "outputs": [
      {
       "output_type": "stream",
       "stream": "stdout",
       "text": [
        "[  3.  67.  20.] float32\n"
       ]
      }
     ],
     "prompt_number": 6
    },
    {
     "cell_type": "code",
     "collapsed": false,
     "input": [
      "# A 2D array creation using list of lists\n",
      "a = [4, 6, 1]\n",
      "b = [1, 8, 2]\n",
      "c = [a, b]\n",
      "array2D = np.array(c)\n",
      "print array2D, array2D.shape"
     ],
     "language": "python",
     "metadata": {},
     "outputs": [
      {
       "output_type": "stream",
       "stream": "stdout",
       "text": [
        "[[4 6 1]\n",
        " [1 8 2]] (2, 3)\n"
       ]
      }
     ],
     "prompt_number": 7
    },
    {
     "cell_type": "code",
     "collapsed": false,
     "input": [
      "# Built-in methods for array creation\n",
      "a = 67.3 * np.random.random((43, 23))\n",
      "print a.min(), a.max(), a.mean()"
     ],
     "language": "python",
     "metadata": {},
     "outputs": [
      {
       "output_type": "stream",
       "stream": "stdout",
       "text": [
        "0.0325914872731 67.2486698524 33.1674304411\n"
       ]
      }
     ],
     "prompt_number": 8
    },
    {
     "cell_type": "code",
     "collapsed": false,
     "input": [
      "a = np.ones(10).cumsum()\n",
      "print a"
     ],
     "language": "python",
     "metadata": {},
     "outputs": [
      {
       "output_type": "stream",
       "stream": "stdout",
       "text": [
        "[  1.   2.   3.   4.   5.   6.   7.   8.   9.  10.]\n"
       ]
      }
     ],
     "prompt_number": 9
    },
    {
     "cell_type": "code",
     "collapsed": false,
     "input": [
      "# Reshaping is straightforward\n",
      "a.shape = (5, 2)\n",
      "print a"
     ],
     "language": "python",
     "metadata": {},
     "outputs": [
      {
       "output_type": "stream",
       "stream": "stdout",
       "text": [
        "[[  1.   2.]\n",
        " [  3.   4.]\n",
        " [  5.   6.]\n",
        " [  7.   8.]\n",
        " [  9.  10.]]\n"
       ]
      }
     ],
     "prompt_number": 10
    },
    {
     "cell_type": "code",
     "collapsed": false,
     "input": [
      "# Indexing is similar to list indexing\n",
      "print a[:][3]"
     ],
     "language": "python",
     "metadata": {},
     "outputs": [
      {
       "output_type": "stream",
       "stream": "stdout",
       "text": [
        "[ 7.  8.]\n"
       ]
      }
     ],
     "prompt_number": 11
    },
    {
     "cell_type": "code",
     "collapsed": false,
     "input": [
      "# Shorthand uses commas, but note reversal of index position\n",
      "print a[3, :]"
     ],
     "language": "python",
     "metadata": {},
     "outputs": [
      {
       "output_type": "stream",
       "stream": "stdout",
       "text": [
        "[ 7.  8.]\n"
       ]
      }
     ],
     "prompt_number": 12
    },
    {
     "cell_type": "markdown",
     "metadata": {
      "collapsed": true
     },
     "source": [
      "## Numpy ufuncs\n",
      "* Universal functions\n",
      "* Operate element-wise on arrays"
     ]
    },
    {
     "cell_type": "code",
     "collapsed": false,
     "input": [
      "# Example of adding a number to values in a list in standard Python\n",
      "a = [3, 2, 5, 4]\n",
      "b = [val + 5 for val in a]  # Using list comprehension\n",
      "print b"
     ],
     "language": "python",
     "metadata": {},
     "outputs": [
      {
       "output_type": "stream",
       "stream": "stdout",
       "text": [
        "[8, 7, 10, 9]\n"
       ]
      }
     ],
     "prompt_number": 1
    },
    {
     "cell_type": "code",
     "collapsed": false,
     "input": [
      "# Numpy ufunc\n",
      "import numpy as np\n",
      "b = np.array(a) + 5\n",
      "print b, list(b)"
     ],
     "language": "python",
     "metadata": {},
     "outputs": [
      {
       "output_type": "stream",
       "stream": "stdout",
       "text": [
        "[ 8  7 10  9] [8, 7, 10, 9]\n"
       ]
      }
     ],
     "prompt_number": 4
    },
    {
     "cell_type": "markdown",
     "metadata": {},
     "source": [
      "**ufuncs incorporate arithmetic, trigonometric functions, bitwise comparisons, exponential functions, etc**\n",
      "\n",
      "For reference, a list of all operations: http://docs.scipy.org/doc/numpy/reference/ufuncs.html"
     ]
    },
    {
     "cell_type": "code",
     "collapsed": false,
     "input": [
      "# For example:\n",
      "#   compare 2 random arrays element wise\n",
      "#   sum the number of elements in array 1 that are larger than in array 2\n",
      "array1 = np.sin(np.random.random(10000))\n",
      "array2 = np.cos(np.random.random(10000))\n",
      "print (array1 > array2).sum()"
     ],
     "language": "python",
     "metadata": {},
     "outputs": [
      {
       "output_type": "stream",
       "stream": "stdout",
       "text": [
        "897\n"
       ]
      }
     ],
     "prompt_number": 9
    },
    {
     "cell_type": "code",
     "collapsed": false,
     "input": [
      "# Can be used in 2 ways\n",
      "a = np.random.rayleigh(size=100)\n",
      "print a.std(), np.std(a)\n"
     ],
     "language": "python",
     "metadata": {},
     "outputs": [
      {
       "output_type": "stream",
       "stream": "stdout",
       "text": [
        " 0.701578261339 0.701578261339\n"
       ]
      }
     ],
     "prompt_number": 49
    },
    {
     "cell_type": "heading",
     "level": 3,
     "metadata": {},
     "source": [
      "Numpy provides massive speed up"
     ]
    },
    {
     "cell_type": "code",
     "collapsed": false,
     "input": [
      "from random import random\n",
      "c = [random() for i in range(100000)]\n",
      "%timeit -qon 100 min(c)"
     ],
     "language": "python",
     "metadata": {},
     "outputs": [
      {
       "metadata": {},
       "output_type": "pyout",
       "prompt_number": 27,
       "text": [
        "<TimeitResult : 100 loops, best of 3: 1.96 ms per loop>"
       ]
      }
     ],
     "prompt_number": 27
    },
    {
     "cell_type": "markdown",
     "metadata": {},
     "source": [
      "**For loops are SLOW in Python because types of objects are checked in each loop**\n",
      "\n",
      "# AVOID LOOPS FOR CALCULATIONS!"
     ]
    },
    {
     "cell_type": "code",
     "collapsed": false,
     "input": [
      "c = np.random.random(10000)\n",
      "%timeit -qon 100 c.min()"
     ],
     "language": "python",
     "metadata": {},
     "outputs": [
      {
       "metadata": {},
       "output_type": "pyout",
       "prompt_number": 28,
       "text": [
        "<TimeitResult : 100 loops, best of 3: 8.4 \u00b5s per loop>"
       ]
      }
     ],
     "prompt_number": 28
    },
    {
     "cell_type": "heading",
     "level": 4,
     "metadata": {},
     "source": [
      "Aggregations on multiple dimension arrays"
     ]
    },
    {
     "cell_type": "code",
     "collapsed": false,
     "input": [
      "m = np.random.randint(0, 10, (4, 6))\n",
      "print m"
     ],
     "language": "python",
     "metadata": {},
     "outputs": [
      {
       "output_type": "stream",
       "stream": "stdout",
       "text": [
        "[[0 1 4 1 2 8]\n",
        " [4 5 5 1 5 2]\n",
        " [1 8 4 9 9 0]\n",
        " [6 4 2 5 4 1]]\n"
       ]
      }
     ],
     "prompt_number": 37
    },
    {
     "cell_type": "code",
     "collapsed": false,
     "input": [
      "m.sum(axis=0)"
     ],
     "language": "python",
     "metadata": {},
     "outputs": [
      {
       "metadata": {},
       "output_type": "pyout",
       "prompt_number": 38,
       "text": [
        "array([11, 18, 15, 16, 20, 11])"
       ]
      }
     ],
     "prompt_number": 38
    },
    {
     "cell_type": "code",
     "collapsed": false,
     "input": [
      "m.sum(axis=1)"
     ],
     "language": "python",
     "metadata": {},
     "outputs": [
      {
       "metadata": {},
       "output_type": "pyout",
       "prompt_number": 39,
       "text": [
        "array([16, 22, 31, 22])"
       ]
      }
     ],
     "prompt_number": 39
    },
    {
     "cell_type": "markdown",
     "metadata": {},
     "source": [
      "**Similar aggregations:** np.percentile(), np.nanmean(), np.std(), np.argmax(), etc. (see link above)"
     ]
    },
    {
     "cell_type": "markdown",
     "metadata": {},
     "source": [
      "## Broadcasting\n",
      "* Used for calculations involving different shaped arrays\n",
      "* Broadcasting provides a means of vectorizing array operations so that **looping occurs in C instead of Python**\n",
      "* The smaller array is \u201cbroadcast\u201d across the larger array so that they have compatible shapes"
     ]
    },
    {
     "cell_type": "code",
     "collapsed": false,
     "input": [
      "a = np.ones((3, 3))\n",
      "b = np.arange(3)\n",
      "print a, b"
     ],
     "language": "python",
     "metadata": {},
     "outputs": [
      {
       "output_type": "stream",
       "stream": "stdout",
       "text": [
        "[[ 1.  1.  1.]\n",
        " [ 1.  1.  1.]\n",
        " [ 1.  1.  1.]] [0 1 2]\n"
       ]
      }
     ],
     "prompt_number": 50
    },
    {
     "cell_type": "code",
     "collapsed": false,
     "input": [
      "print a + b"
     ],
     "language": "python",
     "metadata": {},
     "outputs": [
      {
       "output_type": "stream",
       "stream": "stdout",
       "text": [
        "[[ 1.  2.  3.]\n",
        " [ 1.  2.  3.]\n",
        " [ 1.  2.  3.]]\n"
       ]
      }
     ],
     "prompt_number": 51
    },
    {
     "cell_type": "heading",
     "level": 2,
     "metadata": {},
     "source": [
      "Masked arrays"
     ]
    },
    {
     "cell_type": "code",
     "collapsed": false,
     "input": [
      "a = np.random.randint(0, 10, (5,5))\n",
      "print a"
     ],
     "language": "python",
     "metadata": {},
     "outputs": [
      {
       "output_type": "stream",
       "stream": "stdout",
       "text": [
        "[[5 9 7 4 1]\n",
        " [2 6 1 4 2]\n",
        " [6 9 0 4 2]\n",
        " [6 6 9 9 3]\n",
        " [6 0 8 8 7]]\n"
       ]
      }
     ],
     "prompt_number": 52
    },
    {
     "cell_type": "code",
     "collapsed": false,
     "input": [
      "# Use np.ma submodule for masking\n",
      "b = np.ma.array(a, mask=a>5)\n",
      "print b"
     ],
     "language": "python",
     "metadata": {},
     "outputs": [
      {
       "output_type": "stream",
       "stream": "stdout",
       "text": [
        "[[5 -- -- 4 1]\n",
        " [2 -- 1 4 2]\n",
        " [-- -- 0 4 2]\n",
        " [-- -- -- -- 3]\n",
        " [-- 0 -- -- --]]\n"
       ]
      }
     ],
     "prompt_number": 53
    },
    {
     "cell_type": "code",
     "collapsed": false,
     "input": [
      "# For masked arrays, ufuncs only apply to unmasked values\n",
      "print a.sum(), b.sum()"
     ],
     "language": "python",
     "metadata": {},
     "outputs": [
      {
       "output_type": "stream",
       "stream": "stdout",
       "text": [
        "124 28\n"
       ]
      }
     ],
     "prompt_number": 54
    },
    {
     "cell_type": "code",
     "collapsed": false,
     "input": [
      "# We can perform a similar operation on 'a' without creating 'b'\n",
      "print a[~(a>5)].sum()  # '~' unary operator = invert a boolean (array)"
     ],
     "language": "python",
     "metadata": {},
     "outputs": [
      {
       "output_type": "stream",
       "stream": "stdout",
       "text": [
        "28\n"
       ]
      }
     ],
     "prompt_number": 59
    },
    {
     "cell_type": "code",
     "collapsed": true,
     "input": [
      "Example nearest neighbour lookup???"
     ],
     "language": "python",
     "metadata": {},
     "outputs": [],
     "prompt_number": null
    }
   ],
   "metadata": {}
  }
 ]
}
