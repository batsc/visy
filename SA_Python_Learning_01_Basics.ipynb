{
 "cells": [
  {
   "cell_type": "markdown",
   "metadata": {
    "nbpresent": {
     "id": "76ddb895-a850-4cc1-95e5-d33f48c3cee7"
    }
   },
   "source": [
    "# Python\n",
    "\n",
    "### Resources:\n",
    "* https://docs.python.org/2/reference/index.html - **Language reference:** describes the syntax and “core semantics” of the language\n",
    "* https://docs.python.org/2/library/index.html - **Standard library reference:** describes the standard library that is distributed with Python\n",
    "* https://www.python.org/dev/peps/pep-0008/ - **PEP8:** Code style guide for Python"
   ]
  },
  {
   "cell_type": "markdown",
   "metadata": {
    "nbpresent": {
     "id": "14a58ec7-d69a-4700-a25a-f8c31d02a16c"
    }
   },
   "source": [
    "### Basics:\n",
    "* Python 2 vs Python 3\n",
    "* Use: interactive ('python' or 'ipython') or in a script (e.g., python_script**.py**)\n",
    "* Everything in Python is an **object**, having attributes and methods\n",
    "* mutable and immutable objects"
   ]
  },
  {
   "cell_type": "code",
   "execution_count": 21,
   "metadata": {
    "collapsed": false,
    "nbpresent": {
     "id": "556dd1c6-f376-4b5a-baa1-b3bfd3521827"
    }
   },
   "outputs": [
    {
     "name": "stdout",
     "output_type": "stream",
     "text": [
      "[3, 2]\n"
     ]
    }
   ],
   "source": [
    "a = list([1, 2])\n",
    "a[0] = 3\n",
    "print a"
   ]
  },
  {
   "cell_type": "code",
   "execution_count": null,
   "metadata": {
    "collapsed": false,
    "nbpresent": {
     "id": "7f8f3e95-bb44-44c1-834b-f58ab06c52b0"
    }
   },
   "outputs": [],
   "source": [
    "b = tuple([1, 2])\n",
    "b[0] = 3\n",
    "print b"
   ]
  },
  {
   "cell_type": "markdown",
   "metadata": {
    "nbpresent": {
     "id": "b9545adf-10a9-49ff-bea1-27a2dc0ab396"
    }
   },
   "source": [
    "* dynamically and strongly typed language "
   ]
  },
  {
   "cell_type": "code",
   "execution_count": null,
   "metadata": {
    "collapsed": false,
    "nbpresent": {
     "id": "1c5daf7d-5c55-4e62-bb27-f29100d8bbef"
    }
   },
   "outputs": [],
   "source": [
    "a = 3.4\n",
    "b = 5\n",
    "print type(a), type(b)"
   ]
  },
  {
   "cell_type": "code",
   "execution_count": null,
   "metadata": {
    "collapsed": false,
    "nbpresent": {
     "id": "be86d6e6-be88-4ef5-b6c4-dc56b06bb97a"
    }
   },
   "outputs": [],
   "source": [
    "a = 2\n",
    "b = \"2\"\n",
    "print type(a), type(b), a + b"
   ]
  },
  {
   "cell_type": "markdown",
   "metadata": {
    "nbpresent": {
     "id": "bd5f7cbc-0d46-4553-9c79-cf58ea0a2067"
    }
   },
   "source": [
    "### Useful built-in functions\n",
    "* `help` or `help(object)`"
   ]
  },
  {
   "cell_type": "code",
   "execution_count": null,
   "metadata": {
    "collapsed": false,
    "nbpresent": {
     "id": "a93127a4-5476-4a4e-83e4-8858063f099f"
    }
   },
   "outputs": [],
   "source": [
    "a = 33\n",
    "help(a)"
   ]
  },
  {
   "cell_type": "markdown",
   "metadata": {
    "nbpresent": {
     "id": "e1c7e8a3-96d5-4aa6-b7e3-2578c09eec8d"
    }
   },
   "source": [
    "* `dir()` or `dir(object)`"
   ]
  },
  {
   "cell_type": "code",
   "execution_count": null,
   "metadata": {
    "collapsed": false,
    "nbpresent": {
     "id": "7722a6bb-8ba0-4cdf-8511-0e0035cc5e02"
    }
   },
   "outputs": [],
   "source": [
    "b = \"I am a string\"\n",
    "dir(b)"
   ]
  },
  {
   "cell_type": "markdown",
   "metadata": {
    "nbpresent": {
     "id": "ac2c6079-d5a7-4e95-a48d-9899d70d12d2"
    }
   },
   "source": [
    "# Literals\n",
    "Term for common data structures in Python:\n",
    ">string, unicode string, integer, float, long, list, tuple and dictionary"
   ]
  },
  {
   "cell_type": "markdown",
   "metadata": {
    "nbpresent": {
     "id": "c74e7fb8-76af-44bf-aa4f-ea6544483c7f"
    }
   },
   "source": [
    "## Strings"
   ]
  },
  {
   "cell_type": "code",
   "execution_count": null,
   "metadata": {
    "collapsed": false,
    "nbpresent": {
     "id": "7e9913cd-6cb2-4a66-b37c-db3fe1d60191"
    }
   },
   "outputs": [],
   "source": [
    "a = 'wind'\n",
    "\n",
    "print a"
   ]
  },
  {
   "cell_type": "code",
   "execution_count": null,
   "metadata": {
    "collapsed": false,
    "nbpresent": {
     "id": "3dbd0656-ddc5-4594-ac91-06368dce59ef"
    }
   },
   "outputs": [],
   "source": [
    "# Concatenation\n",
    "print a + a"
   ]
  },
  {
   "cell_type": "code",
   "execution_count": null,
   "metadata": {
    "collapsed": false,
    "nbpresent": {
     "id": "f2fa5697-4da9-4296-ba5f-5b5b56a78060"
    }
   },
   "outputs": [],
   "source": [
    "# Indexing\n",
    "print a[0], a[-1]"
   ]
  },
  {
   "cell_type": "code",
   "execution_count": null,
   "metadata": {
    "collapsed": false,
    "nbpresent": {
     "id": "37c8190f-3f1c-4d7c-8c05-fe581e1dd7c3"
    }
   },
   "outputs": [],
   "source": [
    "# Slicing\n",
    "print a[0:1]"
   ]
  },
  {
   "cell_type": "code",
   "execution_count": null,
   "metadata": {
    "collapsed": false,
    "nbpresent": {
     "id": "830fcc29-31cf-41e6-be92-0d88e762b5b9"
    }
   },
   "outputs": [],
   "source": [
    "print a[0:2]"
   ]
  },
  {
   "cell_type": "code",
   "execution_count": null,
   "metadata": {
    "collapsed": false,
    "nbpresent": {
     "id": "a562a42b-6006-4afe-8006-a84e9e9f4b4d"
    }
   },
   "outputs": [],
   "source": [
    "# Reversing (3rd number is slice step)\n",
    "print a[::-1]"
   ]
  },
  {
   "cell_type": "code",
   "execution_count": null,
   "metadata": {
    "collapsed": false,
    "nbpresent": {
     "id": "a4c65370-4e95-4fc2-9978-75020a13c671"
    }
   },
   "outputs": [],
   "source": [
    "# Note, not reverse of a[0:2]\n",
    "print a[1::-1]"
   ]
  },
  {
   "cell_type": "code",
   "execution_count": null,
   "metadata": {
    "collapsed": false,
    "nbpresent": {
     "id": "9ebe9daa-a09f-4078-92b8-3b07ebd1a298"
    }
   },
   "outputs": [],
   "source": [
    "# Various string methods\n",
    "mystring = \"my\".upper() + \"LenGtH\".lower().center(8) + \"        iS\".lstrip().swapcase()\n",
    "\n",
    "print mystring, len(mystring)"
   ]
  },
  {
   "cell_type": "markdown",
   "metadata": {
    "collapsed": true,
    "nbpresent": {
     "id": "ddec7615-1d73-4363-b959-a7846824cf6c"
    }
   },
   "source": [
    "## Numbers"
   ]
  },
  {
   "cell_type": "code",
   "execution_count": null,
   "metadata": {
    "collapsed": false,
    "nbpresent": {
     "id": "2a598cd3-c6de-48cc-b7e1-8d23010881a6"
    }
   },
   "outputs": [],
   "source": [
    "# Example of multiple variable assignment in one line\n",
    "x, y, z = 2, 3, 5.6\n",
    "\n",
    "type(x), type(z)"
   ]
  },
  {
   "cell_type": "code",
   "execution_count": null,
   "metadata": {
    "collapsed": false,
    "nbpresent": {
     "id": "b39487fb-a792-4419-85ab-6032199a15ae"
    }
   },
   "outputs": [],
   "source": [
    "print y/x, float(y)/x"
   ]
  },
  {
   "cell_type": "code",
   "execution_count": null,
   "metadata": {
    "collapsed": false,
    "nbpresent": {
     "id": "dc01c38d-6c5f-42e7-b3de-7772113d395f"
    }
   },
   "outputs": [],
   "source": [
    "# Print in a string context either by first converting the number using 'str'...\n",
    "print \"Number is \" + str(34.5678)"
   ]
  },
  {
   "cell_type": "code",
   "execution_count": null,
   "metadata": {
    "collapsed": false,
    "nbpresent": {
     "id": "ba8d4683-b42e-4113-83ab-4bc6031ea84e"
    }
   },
   "outputs": [],
   "source": [
    "# ...or using string formatting, where curly braces denote the position to write the formatted variable\n",
    "print \"Number is {:7.4f}\".format(34.5678)"
   ]
  },
  {
   "cell_type": "markdown",
   "metadata": {
    "nbpresent": {
     "id": "580e0055-bbd0-410a-98bf-afc34e13f67a"
    }
   },
   "source": [
    "## Flow control\n",
    "\n",
    "Code blocks are specified by indentation"
   ]
  },
  {
   "cell_type": "code",
   "execution_count": null,
   "metadata": {
    "collapsed": false,
    "nbpresent": {
     "id": "79971508-d42e-4bd6-837b-c82aa9b7184c"
    }
   },
   "outputs": [],
   "source": [
    "for x in range(5):\n",
    "    print x"
   ]
  },
  {
   "cell_type": "code",
   "execution_count": null,
   "metadata": {
    "collapsed": false,
    "nbpresent": {
     "id": "8e322f2e-e078-45cf-9762-fc2298c8616e"
    }
   },
   "outputs": [],
   "source": [
    "for y in range(116, 69, -3):\n",
    "    if y % 2 == 0:\n",
    "        print y"
   ]
  },
  {
   "cell_type": "code",
   "execution_count": 2,
   "metadata": {
    "collapsed": false,
    "nbpresent": {
     "id": "f55299b3-bd0f-44ab-8df6-42d031523b76"
    }
   },
   "outputs": [
    {
     "name": "stdout",
     "output_type": "stream",
     "text": [
      "2\n",
      "3\n"
     ]
    }
   ],
   "source": [
    "# if ... elif ... else\n",
    "for z in range(10):\n",
    "    if z < 2:\n",
    "        pass  # do nothing\n",
    "    elif z < 4:\n",
    "        print z\n",
    "    else:\n",
    "        break  # break out of the loop\n",
    "print \"Loop finished\""
   ]
  },
  {
   "cell_type": "code",
   "execution_count": 1,
   "metadata": {
    "collapsed": false,
    "nbpresent": {
     "id": "9b2f6770-7178-436e-9152-944af0ebd11e"
    }
   },
   "outputs": [
    {
     "name": "stdout",
     "output_type": "stream",
     "text": [
      "Found an odd number:  3\n",
      "Found an odd number:  5\n",
      "Found an odd number:  7\n",
      "Found an odd number:  9\n"
     ]
    }
   ],
   "source": [
    "# Jump to the next iteration with 'continue'\n",
    "for num in range(2, 10):\n",
    "    if num % 2 == 0:\n",
    "        continue\n",
    "    print \"Found an odd number: \", num"
   ]
  },
  {
   "cell_type": "code",
   "execution_count": 2,
   "metadata": {
    "collapsed": false
   },
   "outputs": [
    {
     "name": "stdout",
     "output_type": "stream",
     "text": [
      "0\n",
      "3\n",
      "6\n",
      "9\n"
     ]
    }
   ],
   "source": [
    "# While loops\n",
    "b = 0\n",
    "while b < 12:\n",
    "    print b\n",
    "    b += 3   # Increment operator"
   ]
  },
  {
   "cell_type": "markdown",
   "metadata": {
    "nbpresent": {
     "id": "b25f5a48-ba66-4dd3-9fd6-082f7cf56d51"
    }
   },
   "source": [
    "## Lists"
   ]
  },
  {
   "cell_type": "code",
   "execution_count": null,
   "metadata": {
    "collapsed": false,
    "nbpresent": {
     "id": "3c97f2db-8894-44f8-8a02-09a33ba9ebab"
    }
   },
   "outputs": [],
   "source": [
    "# Use square brackets or 'list()' to define a list\n",
    "a = [5, 8, 3, 1, 3]\n",
    "print a, type(a)"
   ]
  },
  {
   "cell_type": "markdown",
   "metadata": {
    "nbpresent": {
     "id": "f16a837b-4378-4094-ba4f-e0cd016cc037"
    }
   },
   "source": [
    "#### Lists are mutable and contain 'in-place' methods"
   ]
  },
  {
   "cell_type": "code",
   "execution_count": null,
   "metadata": {
    "collapsed": false,
    "nbpresent": {
     "id": "d51ebe17-ca93-40b8-81ff-96c78016d959"
    }
   },
   "outputs": [],
   "source": [
    "a.append(43)\n",
    "print a"
   ]
  },
  {
   "cell_type": "code",
   "execution_count": null,
   "metadata": {
    "collapsed": false,
    "nbpresent": {
     "id": "0eedf501-94d9-41b2-86d9-58085c6f991a"
    }
   },
   "outputs": [],
   "source": [
    "a.sort()\n",
    "print a"
   ]
  },
  {
   "cell_type": "code",
   "execution_count": null,
   "metadata": {
    "collapsed": false,
    "nbpresent": {
     "id": "643a4487-8262-4561-9e24-7c7a7efd571c"
    }
   },
   "outputs": [],
   "source": [
    "a.remove(8)\n",
    "print a"
   ]
  },
  {
   "cell_type": "code",
   "execution_count": null,
   "metadata": {
    "collapsed": false,
    "nbpresent": {
     "id": "312e61fd-7e54-4fcc-b253-5629376d4198"
    }
   },
   "outputs": [],
   "source": [
    "a.insert(2, 555)\n",
    "print a"
   ]
  },
  {
   "cell_type": "markdown",
   "metadata": {
    "nbpresent": {
     "id": "727cc479-02ca-4000-ab90-377ed48a25bc"
    }
   },
   "source": [
    "#### Slicing"
   ]
  },
  {
   "cell_type": "code",
   "execution_count": null,
   "metadata": {
    "collapsed": false,
    "nbpresent": {
     "id": "9cc9c941-486b-467a-9093-8a739b9a11ec"
    }
   },
   "outputs": [],
   "source": [
    "a[0:1]"
   ]
  },
  {
   "cell_type": "code",
   "execution_count": null,
   "metadata": {
    "collapsed": false,
    "nbpresent": {
     "id": "35d80888-ca8f-40dc-9435-42ecaf696180"
    }
   },
   "outputs": [],
   "source": [
    "a[-2:]"
   ]
  },
  {
   "cell_type": "code",
   "execution_count": null,
   "metadata": {
    "collapsed": false,
    "nbpresent": {
     "id": "308ef0e4-573c-4ca1-adc9-e4ca91fa9adf"
    }
   },
   "outputs": [],
   "source": [
    "a[::2]"
   ]
  },
  {
   "cell_type": "markdown",
   "metadata": {
    "nbpresent": {
     "id": "afb3ad45-4e5d-4880-8b25-805d66cef1fa"
    }
   },
   "source": [
    "#### Can contain any type of object"
   ]
  },
  {
   "cell_type": "code",
   "execution_count": null,
   "metadata": {
    "collapsed": false,
    "nbpresent": {
     "id": "2426373a-c501-45bb-8ce6-0871bf7bc463"
    }
   },
   "outputs": [],
   "source": [
    "# List containing float, string and another list (of ints)\n",
    "b = [3.5, \"hello\", [6, 4, 2]]\n",
    "\n",
    "# 'enumerate' returns the index and value of an 'iterator'\n",
    "for index, value in enumerate(b):\n",
    "    print \"Index {:d} of list b has value: {!r}\".format(index, value)"
   ]
  },
  {
   "cell_type": "markdown",
   "metadata": {},
   "source": [
    "### List comprehensions\n",
    "* Short hand for creating lists from other lists without using 'for' loops"
   ]
  },
  {
   "cell_type": "code",
   "execution_count": 1,
   "metadata": {
    "collapsed": false
   },
   "outputs": [
    {
     "name": "stdout",
     "output_type": "stream",
     "text": [
      "[10, 12, 7, 9]\n"
     ]
    }
   ],
   "source": [
    "# Using a for loop\n",
    "a = [5, 7, 2, 4]\n",
    "b = []  # b must first be declared as an empty list\n",
    "for value in a:\n",
    "    b.append(value + 5)\n",
    "print b"
   ]
  },
  {
   "cell_type": "code",
   "execution_count": 4,
   "metadata": {
    "collapsed": false
   },
   "outputs": [
    {
     "name": "stdout",
     "output_type": "stream",
     "text": [
      "[10, 12, 7, 9]\n"
     ]
    }
   ],
   "source": [
    "# Using a list comprehension\n",
    "c = [value + 5 for value in a]\n",
    "print c"
   ]
  },
  {
   "cell_type": "code",
   "execution_count": 6,
   "metadata": {
    "collapsed": false
   },
   "outputs": [
    {
     "name": "stdout",
     "output_type": "stream",
     "text": [
      "[10, 12]\n"
     ]
    }
   ],
   "source": [
    "# Test conditions can also be incorporated in list comprehensions\n",
    "d = [value for value in c if value % 2 == 0]\n",
    "print d"
   ]
  },
  {
   "cell_type": "markdown",
   "metadata": {
    "nbpresent": {
     "id": "9b9e3d68-58c4-4903-9591-17c0e0f46cc1"
    }
   },
   "source": [
    "## Tuples\n",
    "* Similar to lists but immutable\n",
    "* Tuples have **structure**, lists have **order**"
   ]
  },
  {
   "cell_type": "code",
   "execution_count": null,
   "metadata": {
    "collapsed": false,
    "nbpresent": {
     "id": "61812214-2bc4-4532-ac09-4195b7309c69"
    }
   },
   "outputs": [],
   "source": [
    "# Define using parentheses or 'tuple()'\n",
    "satellites = (\"MSG\", \"GOES-R\", \"Himawari-8\")\n",
    "print satellites, type(satellites)"
   ]
  },
  {
   "cell_type": "markdown",
   "metadata": {
    "nbpresent": {
     "id": "dbbbbdbd-e2c6-4fdd-8a8a-ae36e1da5a59"
    }
   },
   "source": [
    "## Dictionaries\n",
    "* For assigning 1-to-1 relationships\n",
    "* Key (must be immutable) to value"
   ]
  },
  {
   "cell_type": "code",
   "execution_count": 6,
   "metadata": {
    "collapsed": false,
    "nbpresent": {
     "id": "c0f76ad6-17ef-4690-bec2-8c92f2af6f29"
    }
   },
   "outputs": [
    {
     "name": "stdout",
     "output_type": "stream",
     "text": [
      "{'count': 3, 'colour': 'red', 'numbers': [4, 7, 9]}\n"
     ]
    }
   ],
   "source": [
    "# Define using curly brackets or 'dict()'\n",
    "d = {'colour':'red', 'count': 3, 'numbers': [4, 7, 9]}\n",
    "print d"
   ]
  },
  {
   "cell_type": "code",
   "execution_count": 7,
   "metadata": {
    "collapsed": false,
    "nbpresent": {
     "id": "9c8441aa-2d2d-4153-8f3a-c89b53b6641c"
    }
   },
   "outputs": [
    {
     "name": "stdout",
     "output_type": "stream",
     "text": [
      "['count', 'colour', 'numbers'] [3, 'red', [4, 7, 9]]\n"
     ]
    }
   ],
   "source": [
    "print d.keys(), d.values()"
   ]
  },
  {
   "cell_type": "code",
   "execution_count": 8,
   "metadata": {
    "collapsed": false,
    "nbpresent": {
     "id": "249c979f-41a4-4ee1-9aad-6a2d6de9410b"
    }
   },
   "outputs": [
    {
     "name": "stdout",
     "output_type": "stream",
     "text": [
      "Key:      count, Value:          3\n",
      "Key:     colour, Value:        red\n",
      "Key:    numbers, Value:  [4, 7, 9]\n"
     ]
    }
   ],
   "source": [
    "for key, value in d.iteritems():\n",
    "    print \"Key: {:>10}, Value: {:>10}\".format(key, value)"
   ]
  },
  {
   "cell_type": "code",
   "execution_count": 9,
   "metadata": {
    "collapsed": false,
    "nbpresent": {
     "id": "9dfd881f-a954-4c49-86e1-da1e06d75241"
    }
   },
   "outputs": [
    {
     "name": "stdout",
     "output_type": "stream",
     "text": [
      "['FOUR', 3, 5.0]\n"
     ]
    }
   ],
   "source": [
    "# Keys can be any immutable object\n",
    "e = {3: 'three', 'FOUR': 'four', 5.0: 'five'}\n",
    "\n",
    "# BUT order is NOT retained (which allows for fast performance)\n",
    "print e.keys()"
   ]
  },
  {
   "cell_type": "code",
   "execution_count": 10,
   "metadata": {
    "collapsed": false,
    "nbpresent": {
     "id": "6e458f57-f251-4d57-91dd-e64516843816"
    }
   },
   "outputs": [
    {
     "name": "stdout",
     "output_type": "stream",
     "text": [
      "['FOUR', 3, 'Six', 5.0]\n"
     ]
    }
   ],
   "source": [
    "# You can add to dictionaries\n",
    "e['Six'] = 'six'\n",
    "print e.keys()"
   ]
  },
  {
   "cell_type": "code",
   "execution_count": 12,
   "metadata": {
    "collapsed": false,
    "nbpresent": {
     "id": "57d600ad-5511-4376-9239-d4bdea4bc465"
    }
   },
   "outputs": [
    {
     "ename": "KeyError",
     "evalue": "3",
     "output_type": "error",
     "traceback": [
      "\u001b[0;31m---------------------------------------------------------------------------\u001b[0m",
      "\u001b[0;31mKeyError\u001b[0m                                  Traceback (most recent call last)",
      "\u001b[0;32m<ipython-input-12-77900ed7360d>\u001b[0m in \u001b[0;36m<module>\u001b[0;34m()\u001b[0m\n\u001b[1;32m      1\u001b[0m \u001b[0;31m# and remove entries\u001b[0m\u001b[0;34m\u001b[0m\u001b[0;34m\u001b[0m\u001b[0m\n\u001b[0;32m----> 2\u001b[0;31m \u001b[0;32mdel\u001b[0m \u001b[0me\u001b[0m\u001b[0;34m[\u001b[0m\u001b[0;36m3\u001b[0m\u001b[0;34m]\u001b[0m\u001b[0;34m\u001b[0m\u001b[0m\n\u001b[0m\u001b[1;32m      3\u001b[0m \u001b[0;32mprint\u001b[0m \u001b[0me\u001b[0m\u001b[0;34m.\u001b[0m\u001b[0mkeys\u001b[0m\u001b[0;34m(\u001b[0m\u001b[0;34m)\u001b[0m\u001b[0;34m\u001b[0m\u001b[0m\n",
      "\u001b[0;31mKeyError\u001b[0m: 3"
     ]
    }
   ],
   "source": [
    "# and remove entries\n",
    "del e[3]\n",
    "print e.keys()"
   ]
  },
  {
   "cell_type": "code",
   "execution_count": 18,
   "metadata": {
    "collapsed": false,
    "nbpresent": {
     "id": "fd2578e8-2b3f-47e5-9853-cebdcbeb276b"
    }
   },
   "outputs": [
    {
     "name": "stdout",
     "output_type": "stream",
     "text": [
      "140.0\n"
     ]
    }
   ],
   "source": [
    "# You can have dictionaries of dictionaries, lists of dictionaries,\n",
    "# dictionaries of lists, dictionaries of lists of dictionaries of...\n",
    "satellites = {'MSG': {'channels': range(1, 13), 'longitude': 0.0},\n",
    "              'HIM8': {'channels': range(1, 17), 'longitude': 140.0},\n",
    "              'GOES13': {'channels': zip(range(1, 6), (0.7, 3.9, 6.6, 10.7, 13.4)), 'longitude': -75.0}}\n",
    "print satellites['HIM8']['longitude']"
   ]
  },
  {
   "cell_type": "code",
   "execution_count": 20,
   "metadata": {
    "collapsed": false,
    "nbpresent": {
     "id": "8184a5c4-99a9-4456-8597-1c2f6ddd8d77"
    }
   },
   "outputs": [
    {
     "name": "stdout",
     "output_type": "stream",
     "text": [
      "Channel 1 has a wavelength of  0.7 microns\n",
      "Channel 2 has a wavelength of  3.9 microns\n",
      "Channel 3 has a wavelength of  6.6 microns\n",
      "Channel 4 has a wavelength of 10.7 microns\n",
      "Channel 5 has a wavelength of 13.4 microns\n"
     ]
    }
   ],
   "source": [
    "for (channel_id, wavelength) in satellites['GOES13']['channels']:\n",
    "    print \"Channel {} has a wavelength of {:4} microns\".format(channel_id, wavelength)"
   ]
  },
  {
   "cell_type": "markdown",
   "metadata": {
    "collapsed": true,
    "nbpresent": {
     "id": "75293b02-2934-4b0d-8fa3-634c7596ca2b"
    }
   },
   "source": [
    "## Simple file I/O\n"
   ]
  },
  {
   "cell_type": "code",
   "execution_count": null,
   "metadata": {
    "collapsed": true,
    "nbpresent": {
     "id": "39180e62-98b3-4f7b-b42e-6320932008b0"
    }
   },
   "outputs": [],
   "source": [
    "# Using the open command returns a file object\n",
    "filename = 'testfile.txt'\n",
    "f = open(filename, 'w')\n",
    "\n",
    "# Use the methods of the file object to write/read to the file\n",
    "f.write(\"Test line 1\\n Test line 2\\nTest\\t\\tline 3\")\n",
    "\n",
    "# Close the file\n",
    "f.close()"
   ]
  },
  {
   "cell_type": "code",
   "execution_count": null,
   "metadata": {
    "collapsed": false,
    "nbpresent": {
     "id": "0593164f-1849-49b6-9e96-b9cd92ee8236"
    }
   },
   "outputs": [],
   "source": [
    "# Read the data back in\n",
    "f = open(filename, 'r')\n",
    "lines = f.readlines()\n",
    "f.close()\n",
    "print type(lines)"
   ]
  },
  {
   "cell_type": "code",
   "execution_count": null,
   "metadata": {
    "collapsed": false,
    "nbpresent": {
     "id": "5af1c23f-3369-47dc-976b-a2a6e6ff5db9"
    }
   },
   "outputs": [],
   "source": [
    "for line in lines:\n",
    "    print line"
   ]
  },
  {
   "cell_type": "code",
   "execution_count": null,
   "metadata": {
    "collapsed": false,
    "nbpresent": {
     "id": "40d00a67-e088-4d82-97ee-937cf25e0f7f"
    }
   },
   "outputs": [],
   "source": [
    "# Good practice to use the 'with' command, which closes the file after the code block finishes\n",
    "with open(filename, 'r') as f:\n",
    "    file_contents = f.read()\n",
    "    print type(file_contents)\n",
    "    print \"File contents: {}\".format(file_contents)"
   ]
  },
  {
   "cell_type": "markdown",
   "metadata": {
    "collapsed": true
   },
   "source": [
    "# Excercise\n",
    "Write a Python script which performs each of the following tasks (get each working before trying the next!):\n",
    "* blah"
   ]
  },
  {
   "cell_type": "code",
   "execution_count": null,
   "metadata": {
    "collapsed": true
   },
   "outputs": [],
   "source": []
  }
 ],
 "metadata": {
  "anaconda-cloud": {},
  "kernelspec": {
   "display_name": "Python [default]",
   "language": "python",
   "name": "python2"
  },
  "language_info": {
   "codemirror_mode": {
    "name": "ipython",
    "version": 2
   },
   "file_extension": ".py",
   "mimetype": "text/x-python",
   "name": "python",
   "nbconvert_exporter": "python",
   "pygments_lexer": "ipython2",
   "version": "2.7.12"
  },
  "nbpresent": {
   "slides": {
    "0e47b5b0-4f93-4722-8ac1-77b6f51af2d3": {
     "id": "0e47b5b0-4f93-4722-8ac1-77b6f51af2d3",
     "prev": "b14577d5-1b64-493e-942f-869cc5d97cd2",
     "regions": {
      "0151d11a-2cd1-4821-82fd-77f633d75c35": {
       "attrs": {
        "height": 0.8,
        "width": 0.8,
        "x": 0.1,
        "y": 0.1
       },
       "content": {
        "cell": "0593164f-1849-49b6-9e96-b9cd92ee8236",
        "part": "whole"
       },
       "id": "0151d11a-2cd1-4821-82fd-77f633d75c35"
      }
     }
    },
    "1227382e-9747-4bbb-b4e8-91c645dfb020": {
     "id": "1227382e-9747-4bbb-b4e8-91c645dfb020",
     "prev": "1e00fbc3-bbac-46ed-9a8d-e7e2c3ea7652",
     "regions": {
      "2b6f67e1-86ea-4b61-a929-a93fead08106": {
       "attrs": {
        "height": 0.8,
        "width": 0.8,
        "x": 0.1,
        "y": 0.1
       },
       "content": {
        "cell": "249c979f-41a4-4ee1-9aad-6a2d6de9410b",
        "part": "whole"
       },
       "id": "2b6f67e1-86ea-4b61-a929-a93fead08106"
      }
     }
    },
    "12e12648-c14f-4cb1-a4c0-c58b0bbf9edb": {
     "id": "12e12648-c14f-4cb1-a4c0-c58b0bbf9edb",
     "prev": "2f365665-813a-431e-a647-9d765b657f6d",
     "regions": {
      "a3feaf13-7bb3-459a-b536-485fcc4d95c7": {
       "attrs": {
        "height": 0.8,
        "width": 0.8,
        "x": 0.1,
        "y": 0.1
       },
       "content": {
        "cell": "fd2578e8-2b3f-47e5-9853-cebdcbeb276b",
        "part": "whole"
       },
       "id": "a3feaf13-7bb3-459a-b536-485fcc4d95c7"
      }
     }
    },
    "14096798-5d5b-49db-877b-90025da12bd5": {
     "id": "14096798-5d5b-49db-877b-90025da12bd5",
     "prev": "12e12648-c14f-4cb1-a4c0-c58b0bbf9edb",
     "regions": {
      "ff0860be-9fda-43ee-8ad8-3a73afde9e05": {
       "attrs": {
        "height": 0.8,
        "width": 0.8,
        "x": 0.1,
        "y": 0.1
       },
       "content": {
        "cell": "8184a5c4-99a9-4456-8597-1c2f6ddd8d77",
        "part": "whole"
       },
       "id": "ff0860be-9fda-43ee-8ad8-3a73afde9e05"
      }
     }
    },
    "1705059a-3693-4a2d-9a1c-731b6ed6f0b7": {
     "id": "1705059a-3693-4a2d-9a1c-731b6ed6f0b7",
     "prev": "69428894-6d73-4dc4-9969-e5bf6f118e3a",
     "regions": {
      "54dd76f7-34f5-4b73-a11b-43a642dd7f18": {
       "attrs": {
        "height": 0.8,
        "width": 0.8,
        "x": 0.1,
        "y": 0.1
       },
       "content": {
        "cell": "830fcc29-31cf-41e6-be92-0d88e762b5b9",
        "part": "whole"
       },
       "id": "54dd76f7-34f5-4b73-a11b-43a642dd7f18"
      }
     }
    },
    "1e00fbc3-bbac-46ed-9a8d-e7e2c3ea7652": {
     "id": "1e00fbc3-bbac-46ed-9a8d-e7e2c3ea7652",
     "prev": "74de69ad-4733-4227-a111-a115fd3ba951",
     "regions": {
      "97e6abc6-71e0-42fc-bd1b-104faa1b63ae": {
       "attrs": {
        "height": 0.8,
        "width": 0.8,
        "x": 0.1,
        "y": 0.1
       },
       "content": {
        "cell": "9c8441aa-2d2d-4153-8f3a-c89b53b6641c",
        "part": "whole"
       },
       "id": "97e6abc6-71e0-42fc-bd1b-104faa1b63ae"
      }
     }
    },
    "20dedde6-03d8-455a-b3b2-f2c2a4726c4b": {
     "id": "20dedde6-03d8-455a-b3b2-f2c2a4726c4b",
     "prev": "b5dae600-fe79-42d9-88a5-105c44f5c84a",
     "regions": {
      "c087c308-b547-465f-bee3-7c930b06e1f0": {
       "attrs": {
        "height": 0.8,
        "width": 0.8,
        "x": 0.1,
        "y": 0.1
       },
       "content": {
        "cell": "8e322f2e-e078-45cf-9762-fc2298c8616e",
        "part": "whole"
       },
       "id": "c087c308-b547-465f-bee3-7c930b06e1f0"
      }
     }
    },
    "21cd5d4e-860d-4731-91ab-8fd84f69a486": {
     "id": "21cd5d4e-860d-4731-91ab-8fd84f69a486",
     "prev": "e097b21d-9a57-4873-83ef-2e4eaa8f0a96",
     "regions": {
      "e7e2ea70-ebb4-43cd-aa2c-c0d754a55783": {
       "attrs": {
        "height": 0.8,
        "width": 0.8,
        "x": 0.1,
        "y": 0.1
       },
       "content": {
        "cell": "9b2f6770-7178-436e-9152-944af0ebd11e",
        "part": "whole"
       },
       "id": "e7e2ea70-ebb4-43cd-aa2c-c0d754a55783"
      }
     }
    },
    "28bfd773-00b5-4afd-a452-5c1d7464f3c9": {
     "id": "28bfd773-00b5-4afd-a452-5c1d7464f3c9",
     "prev": "cdf5d4b6-ddf0-4219-ae5e-f9403433dfc9",
     "regions": {
      "837cebc6-e8e3-4f71-8b72-a3e8f3031b8e": {
       "attrs": {
        "height": 0.8,
        "width": 0.8,
        "x": 0.1,
        "y": 0.1
       },
       "content": {
        "cell": "556dd1c6-f376-4b5a-baa1-b3bfd3521827",
        "part": "whole"
       },
       "id": "837cebc6-e8e3-4f71-8b72-a3e8f3031b8e"
      }
     }
    },
    "29f19d55-f705-4c26-91c9-765ed68c569f": {
     "id": "29f19d55-f705-4c26-91c9-765ed68c569f",
     "prev": "6ce9e337-8dc2-45ba-989a-ef1706c431b5",
     "regions": {
      "06452787-f896-4266-9f29-398031941ab5": {
       "attrs": {
        "height": 0.8,
        "width": 0.8,
        "x": 0.1,
        "y": 0.1
       },
       "content": {
        "cell": "d51ebe17-ca93-40b8-81ff-96c78016d959",
        "part": "whole"
       },
       "id": "06452787-f896-4266-9f29-398031941ab5"
      }
     }
    },
    "2f365665-813a-431e-a647-9d765b657f6d": {
     "id": "2f365665-813a-431e-a647-9d765b657f6d",
     "prev": "7286d42b-cb16-4fcf-9c64-155895c72fee",
     "regions": {
      "bebcc689-0325-4a2f-b57e-7b60b675b8f6": {
       "attrs": {
        "height": 0.8,
        "width": 0.8,
        "x": 0.1,
        "y": 0.1
       },
       "content": {
        "cell": "57d600ad-5511-4376-9239-d4bdea4bc465",
        "part": "whole"
       },
       "id": "bebcc689-0325-4a2f-b57e-7b60b675b8f6"
      }
     }
    },
    "2f79bb2c-1abc-4990-a408-5e07dcf0965d": {
     "id": "2f79bb2c-1abc-4990-a408-5e07dcf0965d",
     "prev": "6b825bd9-afa7-425b-8d94-38e9c5be0706",
     "regions": {
      "bdbe989b-3605-4f1c-ac89-4310a151a779": {
       "attrs": {
        "height": 0.8,
        "width": 0.8,
        "x": 0.1,
        "y": 0.1
       },
       "content": {
        "cell": "7722a6bb-8ba0-4cdf-8511-0e0035cc5e02",
        "part": "whole"
       },
       "id": "bdbe989b-3605-4f1c-ac89-4310a151a779"
      }
     }
    },
    "2fa9d6bf-59a3-4844-b991-ac49c8f01fc7": {
     "id": "2fa9d6bf-59a3-4844-b991-ac49c8f01fc7",
     "prev": "c17bafe1-eecb-4300-ac59-7343fb1f2953",
     "regions": {
      "829d6fe9-3f95-48d7-a80c-395e9d3525a0": {
       "attrs": {
        "height": 0.8,
        "width": 0.8,
        "x": 0.1,
        "y": 0.1
       },
       "content": {
        "cell": "61812214-2bc4-4532-ac09-4195b7309c69",
        "part": "whole"
       },
       "id": "829d6fe9-3f95-48d7-a80c-395e9d3525a0"
      }
     }
    },
    "343ccaab-f031-4c58-bef6-a47ccd8e7368": {
     "id": "343ccaab-f031-4c58-bef6-a47ccd8e7368",
     "prev": "7ce322e3-041e-4894-ae45-c2bad1ef2cfa",
     "regions": {
      "dd71010d-8e0b-4e98-8241-e6710dc7e14f": {
       "attrs": {
        "height": 0.8,
        "width": 0.8,
        "x": 0.1,
        "y": 0.1
       },
       "content": {
        "cell": "b39487fb-a792-4419-85ab-6032199a15ae",
        "part": "whole"
       },
       "id": "dd71010d-8e0b-4e98-8241-e6710dc7e14f"
      }
     }
    },
    "34456f9d-ec5a-460f-9d20-8f427ff68139": {
     "id": "34456f9d-ec5a-460f-9d20-8f427ff68139",
     "prev": "8daad18f-e956-4dbf-bb88-abc1a6f37899",
     "regions": {
      "1fe93650-59c1-4b13-aef2-9973b293d7af": {
       "attrs": {
        "height": 0.8,
        "width": 0.8,
        "x": 0.1,
        "y": 0.1
       },
       "content": {
        "cell": "a4c65370-4e95-4fc2-9978-75020a13c671",
        "part": "whole"
       },
       "id": "1fe93650-59c1-4b13-aef2-9973b293d7af"
      }
     }
    },
    "34fffdb5-a3e1-446a-81cd-afa77457a190": {
     "id": "34fffdb5-a3e1-446a-81cd-afa77457a190",
     "prev": "28bfd773-00b5-4afd-a452-5c1d7464f3c9",
     "regions": {
      "0dc895e6-8077-4922-8415-edca7403e937": {
       "attrs": {
        "height": 0.8,
        "width": 0.8,
        "x": 0.1,
        "y": 0.1
       },
       "content": {
        "cell": "7f8f3e95-bb44-44c1-834b-f58ab06c52b0",
        "part": "whole"
       },
       "id": "0dc895e6-8077-4922-8415-edca7403e937"
      }
     }
    },
    "3a359274-1887-4aa4-9c9e-4e52641860e3": {
     "id": "3a359274-1887-4aa4-9c9e-4e52641860e3",
     "prev": "f5cb518a-108e-4e8d-901b-34e022737959",
     "regions": {
      "3be5a231-62ab-4b17-8188-fadeb054deac": {
       "attrs": {
        "height": 0.8,
        "width": 0.8,
        "x": 0.1,
        "y": 0.1
       },
       "content": {
        "cell": "ddec7615-1d73-4363-b959-a7846824cf6c",
        "part": "whole"
       },
       "id": "3be5a231-62ab-4b17-8188-fadeb054deac"
      }
     }
    },
    "46185dfc-ccf7-4db9-bed3-ad8d3841a1a0": {
     "id": "46185dfc-ccf7-4db9-bed3-ad8d3841a1a0",
     "prev": "29f19d55-f705-4c26-91c9-765ed68c569f",
     "regions": {
      "27f32e9a-00c7-46b5-adb7-d11f611ee9d8": {
       "attrs": {
        "height": 0.8,
        "width": 0.8,
        "x": 0.1,
        "y": 0.1
       },
       "content": {
        "cell": "0eedf501-94d9-41b2-86d9-58085c6f991a",
        "part": "whole"
       },
       "id": "27f32e9a-00c7-46b5-adb7-d11f611ee9d8"
      }
     }
    },
    "4e70a318-7e5c-4338-8eee-9202aa1ad4ea": {
     "id": "4e70a318-7e5c-4338-8eee-9202aa1ad4ea",
     "prev": "8c8e931e-8530-4193-ae7e-d2b5d3782fb7",
     "regions": {
      "2383c972-afa0-46f9-9b93-8aa7ff220dca": {
       "attrs": {
        "height": 0.8,
        "width": 0.8,
        "x": 0.1,
        "y": 0.1
       },
       "content": {
        "cell": "be86d6e6-be88-4ef5-b6c4-dc56b06bb97a",
        "part": "whole"
       },
       "id": "2383c972-afa0-46f9-9b93-8aa7ff220dca"
      }
     }
    },
    "52cb1e2e-fb73-4969-85be-a13a4d6d6371": {
     "id": "52cb1e2e-fb73-4969-85be-a13a4d6d6371",
     "prev": "6ad3ddb6-eb04-4f8d-8668-03eabe92f0d2",
     "regions": {
      "adc9b8e2-cf6d-432f-992d-0214250d71b6": {
       "attrs": {
        "height": 0.8,
        "width": 0.8,
        "x": 0.1,
        "y": 0.1
       },
       "content": {
        "cell": "308ef0e4-573c-4ca1-adc9-e4ca91fa9adf",
        "part": "whole"
       },
       "id": "adc9b8e2-cf6d-432f-992d-0214250d71b6"
      }
     }
    },
    "55bb4cd9-61af-41f2-a3f7-fb66122c1b23": {
     "id": "55bb4cd9-61af-41f2-a3f7-fb66122c1b23",
     "prev": "2f79bb2c-1abc-4990-a408-5e07dcf0965d",
     "regions": {
      "37cda586-924e-4212-9f60-70f16f298938": {
       "attrs": {
        "height": 0.8,
        "width": 0.8,
        "x": 0.1,
        "y": 0.1
       },
       "content": {
        "cell": "ac2c6079-d5a7-4e95-a48d-9899d70d12d2",
        "part": "whole"
       },
       "id": "37cda586-924e-4212-9f60-70f16f298938"
      }
     }
    },
    "57ed8a1a-59ee-409f-b35f-6af58726a900": {
     "id": "57ed8a1a-59ee-409f-b35f-6af58726a900",
     "prev": "46185dfc-ccf7-4db9-bed3-ad8d3841a1a0",
     "regions": {
      "15f3f97c-5ee7-4094-95a7-afe115919205": {
       "attrs": {
        "height": 0.8,
        "width": 0.8,
        "x": 0.1,
        "y": 0.1
       },
       "content": {
        "cell": "643a4487-8262-4561-9e24-7c7a7efd571c",
        "part": "whole"
       },
       "id": "15f3f97c-5ee7-4094-95a7-afe115919205"
      }
     }
    },
    "69428894-6d73-4dc4-9969-e5bf6f118e3a": {
     "id": "69428894-6d73-4dc4-9969-e5bf6f118e3a",
     "prev": "e64a33ad-bcbe-496d-9d77-713877ebd211",
     "regions": {
      "0090d1ba-4e13-4f88-80da-8f48b41c9b4e": {
       "attrs": {
        "height": 0.8,
        "width": 0.8,
        "x": 0.1,
        "y": 0.1
       },
       "content": {
        "cell": "37c8190f-3f1c-4d7c-8c05-fe581e1dd7c3",
        "part": "whole"
       },
       "id": "0090d1ba-4e13-4f88-80da-8f48b41c9b4e"
      }
     }
    },
    "6ad3ddb6-eb04-4f8d-8668-03eabe92f0d2": {
     "id": "6ad3ddb6-eb04-4f8d-8668-03eabe92f0d2",
     "prev": "afe65527-a8ed-48b0-a0f7-0498cb142a89",
     "regions": {
      "987125e2-231a-4f59-947b-a4cf994a762d": {
       "attrs": {
        "height": 0.8,
        "width": 0.8,
        "x": 0.1,
        "y": 0.1
       },
       "content": {
        "cell": "35d80888-ca8f-40dc-9435-42ecaf696180",
        "part": "whole"
       },
       "id": "987125e2-231a-4f59-947b-a4cf994a762d"
      }
     }
    },
    "6b825bd9-afa7-425b-8d94-38e9c5be0706": {
     "id": "6b825bd9-afa7-425b-8d94-38e9c5be0706",
     "prev": "6e0ffb2d-3d1c-4e16-ad32-fd827fc17a09",
     "regions": {
      "c7598f09-1ee8-4a79-828f-fcd2a5cbeb2d": {
       "attrs": {
        "height": 0.8,
        "width": 0.8,
        "x": 0.1,
        "y": 0.1
       },
       "content": {
        "cell": "e1c7e8a3-96d5-4aa6-b7e3-2578c09eec8d",
        "part": "whole"
       },
       "id": "c7598f09-1ee8-4a79-828f-fcd2a5cbeb2d"
      }
     }
    },
    "6ce9e337-8dc2-45ba-989a-ef1706c431b5": {
     "id": "6ce9e337-8dc2-45ba-989a-ef1706c431b5",
     "prev": "fc16b4d6-f79e-4fad-bc4f-2c19f81c6351",
     "regions": {
      "a9615408-e9a6-4018-9643-11b2d3636c1b": {
       "attrs": {
        "height": 0.8,
        "width": 0.8,
        "x": 0.1,
        "y": 0.1
       },
       "content": {
        "cell": "f16a837b-4378-4094-ba4f-e0cd016cc037",
        "part": "whole"
       },
       "id": "a9615408-e9a6-4018-9643-11b2d3636c1b"
      }
     }
    },
    "6e0ffb2d-3d1c-4e16-ad32-fd827fc17a09": {
     "id": "6e0ffb2d-3d1c-4e16-ad32-fd827fc17a09",
     "prev": "8cfcd80b-b888-4b37-ba37-6cf9a8f31f19",
     "regions": {
      "dad2764b-0317-4129-b178-7fdf5b907e94": {
       "attrs": {
        "height": 0.8,
        "width": 0.8,
        "x": 0.1,
        "y": 0.1
       },
       "content": {
        "cell": "a93127a4-5476-4a4e-83e4-8858063f099f",
        "part": "whole"
       },
       "id": "dad2764b-0317-4129-b178-7fdf5b907e94"
      }
     }
    },
    "70a41a36-71ad-4101-b93e-0261cea2fa23": {
     "id": "70a41a36-71ad-4101-b93e-0261cea2fa23",
     "prev": "52cb1e2e-fb73-4969-85be-a13a4d6d6371",
     "regions": {
      "198894bd-3b27-401f-82b8-982fd7a629a5": {
       "attrs": {
        "height": 0.8,
        "width": 0.8,
        "x": 0.1,
        "y": 0.1
       },
       "content": {
        "cell": "afb3ad45-4e5d-4880-8b25-805d66cef1fa",
        "part": "whole"
       },
       "id": "198894bd-3b27-401f-82b8-982fd7a629a5"
      }
     }
    },
    "7286d42b-cb16-4fcf-9c64-155895c72fee": {
     "id": "7286d42b-cb16-4fcf-9c64-155895c72fee",
     "prev": "8eb029a4-ef24-4ae5-8725-17cc9a02579d",
     "regions": {
      "e3813c96-ab4c-4830-bb47-a606dd0306bb": {
       "attrs": {
        "height": 0.8,
        "width": 0.8,
        "x": 0.1,
        "y": 0.1
       },
       "content": {
        "cell": "6e458f57-f251-4d57-91dd-e64516843816",
        "part": "whole"
       },
       "id": "e3813c96-ab4c-4830-bb47-a606dd0306bb"
      }
     }
    },
    "74de69ad-4733-4227-a111-a115fd3ba951": {
     "id": "74de69ad-4733-4227-a111-a115fd3ba951",
     "prev": "f79abe7a-16f7-44ba-82d8-300aefe1a998",
     "regions": {
      "56e92017-0e6b-44e4-83c5-b558276f7f96": {
       "attrs": {
        "height": 0.8,
        "width": 0.8,
        "x": 0.1,
        "y": 0.1
       },
       "content": {
        "cell": "c0f76ad6-17ef-4690-bec2-8c92f2af6f29",
        "part": "whole"
       },
       "id": "56e92017-0e6b-44e4-83c5-b558276f7f96"
      }
     }
    },
    "77f02db0-f36f-4cf4-ad0a-4bab677e8e76": {
     "id": "77f02db0-f36f-4cf4-ad0a-4bab677e8e76",
     "prev": "0e47b5b0-4f93-4722-8ac1-77b6f51af2d3",
     "regions": {
      "708201d5-9822-4f00-b8a9-fd1ff54df29e": {
       "attrs": {
        "height": 0.8,
        "width": 0.8,
        "x": 0.1,
        "y": 0.1
       },
       "content": {
        "cell": "5af1c23f-3369-47dc-976b-a2a6e6ff5db9",
        "part": "whole"
       },
       "id": "708201d5-9822-4f00-b8a9-fd1ff54df29e"
      }
     }
    },
    "7ce322e3-041e-4894-ae45-c2bad1ef2cfa": {
     "id": "7ce322e3-041e-4894-ae45-c2bad1ef2cfa",
     "prev": "3a359274-1887-4aa4-9c9e-4e52641860e3",
     "regions": {
      "8fc0a9ea-e9fc-4636-b8e3-80b26785bb1a": {
       "attrs": {
        "height": 0.8,
        "width": 0.8,
        "x": 0.1,
        "y": 0.1
       },
       "content": {
        "cell": "2a598cd3-c6de-48cc-b7e1-8d23010881a6",
        "part": "whole"
       },
       "id": "8fc0a9ea-e9fc-4636-b8e3-80b26785bb1a"
      }
     }
    },
    "8c055a64-7d32-4b38-aadf-2a23a4e0ebd2": {
     "id": "8c055a64-7d32-4b38-aadf-2a23a4e0ebd2",
     "prev": "70a41a36-71ad-4101-b93e-0261cea2fa23",
     "regions": {
      "90a611f9-4ff7-4bdc-bcb2-ca9a326ab5f0": {
       "attrs": {
        "height": 0.8,
        "width": 0.8,
        "x": 0.1,
        "y": 0.1
       },
       "content": {
        "cell": "2426373a-c501-45bb-8ce6-0871bf7bc463",
        "part": "whole"
       },
       "id": "90a611f9-4ff7-4bdc-bcb2-ca9a326ab5f0"
      }
     }
    },
    "8c752b93-73fb-474e-8bf8-0448dc63ff26": {
     "id": "8c752b93-73fb-474e-8bf8-0448dc63ff26",
     "prev": "a0d618be-646e-4821-8ce4-c6d7cc95c1c9",
     "regions": {
      "04eda057-d4ef-4302-9ea1-77583d9eb174": {
       "attrs": {
        "height": 0.8,
        "width": 0.8,
        "x": 0.1,
        "y": 0.1
       },
       "content": {
        "cell": "3dbd0656-ddc5-4594-ac91-06368dce59ef",
        "part": "whole"
       },
       "id": "04eda057-d4ef-4302-9ea1-77583d9eb174"
      }
     }
    },
    "8c8e931e-8530-4193-ae7e-d2b5d3782fb7": {
     "id": "8c8e931e-8530-4193-ae7e-d2b5d3782fb7",
     "prev": "ee6eb2cc-5c20-49c8-9642-6eab7b3096db",
     "regions": {
      "53da0fa9-74ba-4b62-bffa-4f47d7faf641": {
       "attrs": {
        "height": 0.8,
        "width": 0.8,
        "x": 0.1,
        "y": 0.1
       },
       "content": {
        "cell": "1c5daf7d-5c55-4e62-bb27-f29100d8bbef",
        "part": "whole"
       },
       "id": "53da0fa9-74ba-4b62-bffa-4f47d7faf641"
      }
     }
    },
    "8cfcd80b-b888-4b37-ba37-6cf9a8f31f19": {
     "id": "8cfcd80b-b888-4b37-ba37-6cf9a8f31f19",
     "prev": "4e70a318-7e5c-4338-8eee-9202aa1ad4ea",
     "regions": {
      "4561a193-977f-4028-8aad-bf9742e8dc26": {
       "attrs": {
        "height": 0.8,
        "width": 0.8,
        "x": 0.1,
        "y": 0.1
       },
       "content": {
        "cell": "bd5f7cbc-0d46-4553-9c79-cf58ea0a2067",
        "part": "whole"
       },
       "id": "4561a193-977f-4028-8aad-bf9742e8dc26"
      }
     }
    },
    "8daad18f-e956-4dbf-bb88-abc1a6f37899": {
     "id": "8daad18f-e956-4dbf-bb88-abc1a6f37899",
     "prev": "1705059a-3693-4a2d-9a1c-731b6ed6f0b7",
     "regions": {
      "4201bac8-8668-4672-a728-107e578c49a9": {
       "attrs": {
        "height": 0.8,
        "width": 0.8,
        "x": 0.1,
        "y": 0.1
       },
       "content": {
        "cell": "a562a42b-6006-4afe-8006-a84e9e9f4b4d",
        "part": "whole"
       },
       "id": "4201bac8-8668-4672-a728-107e578c49a9"
      }
     }
    },
    "8eb029a4-ef24-4ae5-8725-17cc9a02579d": {
     "id": "8eb029a4-ef24-4ae5-8725-17cc9a02579d",
     "prev": "1227382e-9747-4bbb-b4e8-91c645dfb020",
     "regions": {
      "605605d6-f1f6-4443-a89f-302ef72f9772": {
       "attrs": {
        "height": 0.8,
        "width": 0.8,
        "x": 0.1,
        "y": 0.1
       },
       "content": {
        "cell": "9dfd881f-a954-4c49-86e1-da1e06d75241",
        "part": "whole"
       },
       "id": "605605d6-f1f6-4443-a89f-302ef72f9772"
      }
     }
    },
    "a0d618be-646e-4821-8ce4-c6d7cc95c1c9": {
     "id": "a0d618be-646e-4821-8ce4-c6d7cc95c1c9",
     "prev": "db4af23a-7086-4f67-9c6c-0579f9559cbc",
     "regions": {
      "1ea1465f-c0dd-4975-aaca-d7524b7893a3": {
       "attrs": {
        "height": 0.8,
        "width": 0.8,
        "x": 0.1,
        "y": 0.1
       },
       "content": {
        "cell": "7e9913cd-6cb2-4a66-b37c-db3fe1d60191",
        "part": "whole"
       },
       "id": "1ea1465f-c0dd-4975-aaca-d7524b7893a3"
      }
     }
    },
    "a54972e3-5762-42ab-bb03-e4b2f1f73b88": {
     "id": "a54972e3-5762-42ab-bb03-e4b2f1f73b88",
     "prev": null,
     "regions": {
      "3029a94b-8580-4e68-bc43-f4a518cd0c0b": {
       "attrs": {
        "height": 0.8,
        "width": 0.8,
        "x": 0.1,
        "y": 0.1
       },
       "content": {
        "cell": "76ddb895-a850-4cc1-95e5-d33f48c3cee7",
        "part": "whole"
       },
       "id": "3029a94b-8580-4e68-bc43-f4a518cd0c0b"
      }
     }
    },
    "a59c2dbd-43dc-4859-b9ec-9bc640d03c42": {
     "id": "a59c2dbd-43dc-4859-b9ec-9bc640d03c42",
     "prev": "21cd5d4e-860d-4731-91ab-8fd84f69a486",
     "regions": {
      "88a17b5d-0cb8-42f2-bdef-699b9b6762a4": {
       "attrs": {
        "height": 0.8,
        "width": 0.8,
        "x": 0.1,
        "y": 0.1
       },
       "content": {
        "cell": "b25f5a48-ba66-4dd3-9fd6-082f7cf56d51",
        "part": "whole"
       },
       "id": "88a17b5d-0cb8-42f2-bdef-699b9b6762a4"
      }
     }
    },
    "aee9aa4e-a52a-474b-9fbc-4cb0fcac8765": {
     "id": "aee9aa4e-a52a-474b-9fbc-4cb0fcac8765",
     "prev": "d523068a-b3f5-45d0-b560-d755bacfa8bc",
     "regions": {
      "e336d43b-4922-4869-b137-0f0cbdba7da0": {
       "attrs": {
        "height": 0.8,
        "width": 0.8,
        "x": 0.1,
        "y": 0.1
       },
       "content": {
        "cell": "fdd6d355-5c5e-406b-bfec-00fa2bb5e8d8",
        "part": "whole"
       },
       "id": "e336d43b-4922-4869-b137-0f0cbdba7da0"
      }
     }
    },
    "afe65527-a8ed-48b0-a0f7-0498cb142a89": {
     "id": "afe65527-a8ed-48b0-a0f7-0498cb142a89",
     "prev": "c304bb0b-1301-41a2-9dff-e854eaf05bd4",
     "regions": {
      "f5cf24a5-072e-45ae-bd73-51b568e66eae": {
       "attrs": {
        "height": 0.8,
        "width": 0.8,
        "x": 0.1,
        "y": 0.1
       },
       "content": {
        "cell": "9cc9c941-486b-467a-9093-8a739b9a11ec",
        "part": "whole"
       },
       "id": "f5cf24a5-072e-45ae-bd73-51b568e66eae"
      }
     }
    },
    "b14577d5-1b64-493e-942f-869cc5d97cd2": {
     "id": "b14577d5-1b64-493e-942f-869cc5d97cd2",
     "prev": "fd3d0d05-b104-4afa-ae41-d863d6a091ab",
     "regions": {
      "008b40b2-2dc9-4d17-b37e-ffe3444b7f44": {
       "attrs": {
        "height": 0.8,
        "width": 0.8,
        "x": 0.1,
        "y": 0.1
       },
       "content": {
        "cell": "39180e62-98b3-4f7b-b42e-6320932008b0",
        "part": "whole"
       },
       "id": "008b40b2-2dc9-4d17-b37e-ffe3444b7f44"
      }
     }
    },
    "b5dae600-fe79-42d9-88a5-105c44f5c84a": {
     "id": "b5dae600-fe79-42d9-88a5-105c44f5c84a",
     "prev": "b733e427-983a-45bf-a467-31a62ed93f9a",
     "regions": {
      "2bb60002-5832-4ca4-b03c-193785236276": {
       "attrs": {
        "height": 0.8,
        "width": 0.8,
        "x": 0.1,
        "y": 0.1
       },
       "content": {
        "cell": "79971508-d42e-4bd6-837b-c82aa9b7184c",
        "part": "whole"
       },
       "id": "2bb60002-5832-4ca4-b03c-193785236276"
      }
     }
    },
    "b733e427-983a-45bf-a467-31a62ed93f9a": {
     "id": "b733e427-983a-45bf-a467-31a62ed93f9a",
     "prev": "db5d1836-aa6f-46d0-be22-c0647ae8c07a",
     "regions": {
      "a0792d0e-d757-4a7a-bef9-32b72a58bb53": {
       "attrs": {
        "height": 0.8,
        "width": 0.8,
        "x": 0.1,
        "y": 0.1
       },
       "content": {
        "cell": "580e0055-bbd0-410a-98bf-afc34e13f67a",
        "part": "whole"
       },
       "id": "a0792d0e-d757-4a7a-bef9-32b72a58bb53"
      }
     }
    },
    "c010a9a0-3b90-48ff-843e-85bba7da503b": {
     "id": "c010a9a0-3b90-48ff-843e-85bba7da503b",
     "prev": "57ed8a1a-59ee-409f-b35f-6af58726a900",
     "regions": {
      "3f65c072-98c4-4c17-8901-ef9df4311fbb": {
       "attrs": {
        "height": 0.8,
        "width": 0.8,
        "x": 0.1,
        "y": 0.1
       },
       "content": {
        "cell": "312e61fd-7e54-4fcc-b253-5629376d4198",
        "part": "whole"
       },
       "id": "3f65c072-98c4-4c17-8901-ef9df4311fbb"
      }
     }
    },
    "c17bafe1-eecb-4300-ac59-7343fb1f2953": {
     "id": "c17bafe1-eecb-4300-ac59-7343fb1f2953",
     "prev": "8c055a64-7d32-4b38-aadf-2a23a4e0ebd2",
     "regions": {
      "4010e6ee-4324-41fd-8bde-71965049d96b": {
       "attrs": {
        "height": 0.8,
        "width": 0.8,
        "x": 0.1,
        "y": 0.1
       },
       "content": {
        "cell": "9b9e3d68-58c4-4903-9591-17c0e0f46cc1",
        "part": "whole"
       },
       "id": "4010e6ee-4324-41fd-8bde-71965049d96b"
      }
     }
    },
    "c304bb0b-1301-41a2-9dff-e854eaf05bd4": {
     "id": "c304bb0b-1301-41a2-9dff-e854eaf05bd4",
     "prev": "c010a9a0-3b90-48ff-843e-85bba7da503b",
     "regions": {
      "e55367c5-64ed-4829-9d63-4a64760a144a": {
       "attrs": {
        "height": 0.8,
        "width": 0.8,
        "x": 0.1,
        "y": 0.1
       },
       "content": {
        "cell": "727cc479-02ca-4000-ab90-377ed48a25bc",
        "part": "whole"
       },
       "id": "e55367c5-64ed-4829-9d63-4a64760a144a"
      }
     }
    },
    "cdf5d4b6-ddf0-4219-ae5e-f9403433dfc9": {
     "id": "cdf5d4b6-ddf0-4219-ae5e-f9403433dfc9",
     "prev": "a54972e3-5762-42ab-bb03-e4b2f1f73b88",
     "regions": {
      "5003b3fa-d6eb-4113-ad6a-780ac328f5f7": {
       "attrs": {
        "height": 0.8,
        "width": 0.8,
        "x": 0.1,
        "y": 0.1
       },
       "content": {
        "cell": "14a58ec7-d69a-4700-a25a-f8c31d02a16c",
        "part": "whole"
       },
       "id": "5003b3fa-d6eb-4113-ad6a-780ac328f5f7"
      }
     }
    },
    "d523068a-b3f5-45d0-b560-d755bacfa8bc": {
     "id": "d523068a-b3f5-45d0-b560-d755bacfa8bc",
     "prev": "77f02db0-f36f-4cf4-ad0a-4bab677e8e76",
     "regions": {
      "e93ca32a-896b-48de-8779-0cff44f16dcf": {
       "attrs": {
        "height": 0.8,
        "width": 0.8,
        "x": 0.1,
        "y": 0.1
       },
       "content": {
        "cell": "40d00a67-e088-4d82-97ee-937cf25e0f7f",
        "part": "whole"
       },
       "id": "e93ca32a-896b-48de-8779-0cff44f16dcf"
      }
     }
    },
    "db4af23a-7086-4f67-9c6c-0579f9559cbc": {
     "id": "db4af23a-7086-4f67-9c6c-0579f9559cbc",
     "prev": "55bb4cd9-61af-41f2-a3f7-fb66122c1b23",
     "regions": {
      "afcd8f04-e030-4b6d-8a3a-7d31685bd4ca": {
       "attrs": {
        "height": 0.8,
        "width": 0.8,
        "x": 0.1,
        "y": 0.1
       },
       "content": {
        "cell": "c74e7fb8-76af-44bf-aa4f-ea6544483c7f",
        "part": "whole"
       },
       "id": "afcd8f04-e030-4b6d-8a3a-7d31685bd4ca"
      }
     }
    },
    "db5d1836-aa6f-46d0-be22-c0647ae8c07a": {
     "id": "db5d1836-aa6f-46d0-be22-c0647ae8c07a",
     "prev": "f642c57b-5812-4111-adea-539cce454d39",
     "regions": {
      "620084f4-e622-4f69-8f8c-b588b223d356": {
       "attrs": {
        "height": 0.8,
        "width": 0.8,
        "x": 0.1,
        "y": 0.1
       },
       "content": {
        "cell": "ba8d4683-b42e-4113-83ab-4bc6031ea84e",
        "part": "whole"
       },
       "id": "620084f4-e622-4f69-8f8c-b588b223d356"
      }
     }
    },
    "e097b21d-9a57-4873-83ef-2e4eaa8f0a96": {
     "id": "e097b21d-9a57-4873-83ef-2e4eaa8f0a96",
     "prev": "20dedde6-03d8-455a-b3b2-f2c2a4726c4b",
     "regions": {
      "4270605d-b768-4882-8163-b712a6f50485": {
       "attrs": {
        "height": 0.8,
        "width": 0.8,
        "x": 0.1,
        "y": 0.1
       },
       "content": {
        "cell": "f55299b3-bd0f-44ab-8df6-42d031523b76",
        "part": "whole"
       },
       "id": "4270605d-b768-4882-8163-b712a6f50485"
      }
     }
    },
    "e64a33ad-bcbe-496d-9d77-713877ebd211": {
     "id": "e64a33ad-bcbe-496d-9d77-713877ebd211",
     "prev": "8c752b93-73fb-474e-8bf8-0448dc63ff26",
     "regions": {
      "095a7417-39ec-41b1-b666-e015e421fb6e": {
       "attrs": {
        "height": 0.8,
        "width": 0.8,
        "x": 0.1,
        "y": 0.1
       },
       "content": {
        "cell": "f2fa5697-4da9-4296-ba5f-5b5b56a78060",
        "part": "whole"
       },
       "id": "095a7417-39ec-41b1-b666-e015e421fb6e"
      }
     }
    },
    "ee6eb2cc-5c20-49c8-9642-6eab7b3096db": {
     "id": "ee6eb2cc-5c20-49c8-9642-6eab7b3096db",
     "prev": "34fffdb5-a3e1-446a-81cd-afa77457a190",
     "regions": {
      "19c5fb6f-00ec-4fff-a726-b7d597f349a1": {
       "attrs": {
        "height": 0.8,
        "width": 0.8,
        "x": 0.1,
        "y": 0.1
       },
       "content": {
        "cell": "b9545adf-10a9-49ff-bea1-27a2dc0ab396",
        "part": "whole"
       },
       "id": "19c5fb6f-00ec-4fff-a726-b7d597f349a1"
      }
     }
    },
    "f5cb518a-108e-4e8d-901b-34e022737959": {
     "id": "f5cb518a-108e-4e8d-901b-34e022737959",
     "prev": "34456f9d-ec5a-460f-9d20-8f427ff68139",
     "regions": {
      "d91a66ea-5336-4838-b6c8-d4f326a39cdb": {
       "attrs": {
        "height": 0.8,
        "width": 0.8,
        "x": 0.1,
        "y": 0.1
       },
       "content": {
        "cell": "9ebe9daa-a09f-4078-92b8-3b07ebd1a298",
        "part": "whole"
       },
       "id": "d91a66ea-5336-4838-b6c8-d4f326a39cdb"
      }
     }
    },
    "f642c57b-5812-4111-adea-539cce454d39": {
     "id": "f642c57b-5812-4111-adea-539cce454d39",
     "prev": "343ccaab-f031-4c58-bef6-a47ccd8e7368",
     "regions": {
      "4b5b8155-004f-48b6-879e-ee04ab5189bf": {
       "attrs": {
        "height": 0.8,
        "width": 0.8,
        "x": 0.1,
        "y": 0.1
       },
       "content": {
        "cell": "dc01c38d-6c5f-42e7-b3de-7772113d395f",
        "part": "whole"
       },
       "id": "4b5b8155-004f-48b6-879e-ee04ab5189bf"
      }
     }
    },
    "f79abe7a-16f7-44ba-82d8-300aefe1a998": {
     "id": "f79abe7a-16f7-44ba-82d8-300aefe1a998",
     "prev": "2fa9d6bf-59a3-4844-b991-ac49c8f01fc7",
     "regions": {
      "82250e37-7cd5-417f-929f-ab343649b84f": {
       "attrs": {
        "height": 0.8,
        "width": 0.8,
        "x": 0.1,
        "y": 0.1
       },
       "content": {
        "cell": "dbbbbdbd-e2c6-4fdd-8a8a-ae36e1da5a59",
        "part": "whole"
       },
       "id": "82250e37-7cd5-417f-929f-ab343649b84f"
      }
     }
    },
    "fc16b4d6-f79e-4fad-bc4f-2c19f81c6351": {
     "id": "fc16b4d6-f79e-4fad-bc4f-2c19f81c6351",
     "prev": "a59c2dbd-43dc-4859-b9ec-9bc640d03c42",
     "regions": {
      "44e7bc4b-3001-44ea-a32b-5303492b6637": {
       "attrs": {
        "height": 0.8,
        "width": 0.8,
        "x": 0.1,
        "y": 0.1
       },
       "content": {
        "cell": "3c97f2db-8894-44f8-8a02-09a33ba9ebab",
        "part": "whole"
       },
       "id": "44e7bc4b-3001-44ea-a32b-5303492b6637"
      }
     }
    },
    "fd3d0d05-b104-4afa-ae41-d863d6a091ab": {
     "id": "fd3d0d05-b104-4afa-ae41-d863d6a091ab",
     "prev": "14096798-5d5b-49db-877b-90025da12bd5",
     "regions": {
      "06494f51-0deb-4ea8-af3a-eefd18bb5bdc": {
       "attrs": {
        "height": 0.8,
        "width": 0.8,
        "x": 0.1,
        "y": 0.1
       },
       "content": {
        "cell": "75293b02-2934-4b0d-8fa3-634c7596ca2b",
        "part": "whole"
       },
       "id": "06494f51-0deb-4ea8-af3a-eefd18bb5bdc"
      }
     }
    }
   },
   "themes": {
    "default": "b856386e-450e-437b-8323-d4d3d22a6aa9",
    "theme": {
     "8270bdb8-d085-4969-b57d-05009352d01b": {
      "backgrounds": {
       "backgroundColor": {
        "background-color": "backgroundColor",
        "id": "backgroundColor"
       }
      },
      "id": "8270bdb8-d085-4969-b57d-05009352d01b",
      "palette": {
       "backgroundColor": {
        "id": "backgroundColor",
        "rgb": [
         247,
         251,
         252
        ]
       },
       "headingColor": {
        "id": "headingColor",
        "rgb": [
         51,
         51,
         51
        ]
       },
       "linkColor": {
        "id": "linkColor",
        "rgb": [
         59,
         117,
         158
        ]
       },
       "mainColor": {
        "id": "mainColor",
        "rgb": [
         51,
         51,
         51
        ]
       }
      },
      "rules": {
       "a": {
        "color": "linkColor"
       },
       "h1": {
        "color": "headingColor",
        "font-family": "Quicksand",
        "font-size": 7
       },
       "h2": {
        "color": "headingColor",
        "font-family": "Quicksand",
        "font-size": 5
       },
       "h3": {
        "color": "headingColor",
        "font-family": "Quicksand",
        "font-size": 3.75
       },
       "h4": {
        "color": "headingColor",
        "font-family": "Quicksand",
        "font-size": 3
       },
       "h5": {
        "color": "headingColor",
        "font-family": "Quicksand"
       },
       "h6": {
        "color": "headingColor",
        "font-family": "Quicksand"
       },
       "h7": {
        "color": "headingColor",
        "font-family": "Quicksand"
       },
       "li": {
        "color": "mainColor",
        "font-family": "Open Sans",
        "font-size": 5
       },
       "p": {
        "color": "mainColor",
        "font-family": "Open Sans",
        "font-size": 5
       }
      },
      "text-base": {
       "color": "mainColor",
       "font-family": "Open Sans",
       "font-size": 5
      }
     },
     "b856386e-450e-437b-8323-d4d3d22a6aa9": {
      "backgrounds": {
       "backgroundColor": {
        "background-color": "backgroundColor",
        "id": "backgroundColor"
       }
      },
      "id": "b856386e-450e-437b-8323-d4d3d22a6aa9",
      "palette": {
       "backgroundColor": {
        "id": "backgroundColor",
        "rgb": [
         17,
         17,
         17
        ]
       },
       "headingColor": {
        "id": "headingColor",
        "rgb": [
         238,
         238,
         238
        ]
       },
       "linkColor": {
        "id": "linkColor",
        "rgb": [
         231,
         173,
         82
        ]
       },
       "mainColor": {
        "id": "mainColor",
        "rgb": [
         238,
         238,
         238
        ]
       }
      },
      "rules": {
       "a": {
        "color": "linkColor"
       },
       "h1": {
        "color": "headingColor",
        "font-family": "Montserrat",
        "font-size": 7
       },
       "h2": {
        "color": "headingColor",
        "font-family": "Montserrat",
        "font-size": 5
       },
       "h3": {
        "color": "headingColor",
        "font-family": "Montserrat",
        "font-size": 3.75
       },
       "h4": {
        "color": "headingColor",
        "font-family": "Montserrat",
        "font-size": 3
       },
       "h5": {
        "color": "headingColor",
        "font-family": "Montserrat"
       },
       "h6": {
        "color": "headingColor",
        "font-family": "Montserrat"
       },
       "h7": {
        "color": "headingColor",
        "font-family": "Montserrat"
       },
       "li": {
        "color": "mainColor",
        "font-family": "Open Sans",
        "font-size": 4
       },
       "p": {
        "color": "mainColor",
        "font-family": "Open Sans",
        "font-size": 4
       }
      },
      "text-base": {
       "color": "mainColor",
       "font-family": "Open Sans",
       "font-size": 4
      }
     }
    }
   }
  }
 },
 "nbformat": 4,
 "nbformat_minor": 1
}
