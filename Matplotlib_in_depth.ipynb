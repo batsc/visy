{
 "cells": [
  {
   "cell_type": "code",
   "execution_count": null,
   "metadata": {
    "collapsed": true
   },
   "outputs": [],
   "source": []
  },
  {
   "cell_type": "markdown",
   "metadata": {},
   "source": [
    "# Matplotlib\n",
    "* Designed as an alternative to Matlab\n",
    "\n",
    "Anatomy\n",
    "* Scripting layer\n",
    "* Artist layer\n",
    " * Everything in a graphic is an artist\n",
    " * Knows how to draw itself\n",
    "* Backend layer\n",
    " * Presents a generic drawing interface (e.g. draw_point, draw_line, etc)\n",
    " * Interacts with the physical world"
   ]
  },
  {
   "cell_type": "markdown",
   "metadata": {},
   "source": [
    "Each layer knows about the layer below but not the one above\n"
   ]
  },
  {
   "cell_type": "markdown",
   "metadata": {},
   "source": [
    "Three interfaces\n",
    "* Pylab (deprecated)\n",
    " * least verbose\n",
    " * but everything in global space => hard to know what refers to what\n",
    "* Pyplot\n",
    " * Namespaces => can follow what is going on (plt.xxx)\n",
    " * Less control - stable interface but it tries to do things for you and you inevitably have to make small adjustments\n",
    "* Object Orientated API\n",
    " * Essentially the artist layer\n",
    " * Needed for incorporating MPL in GUI, or web pages, etc."
   ]
  },
  {
   "cell_type": "markdown",
   "metadata": {},
   "source": [
    "## Pyplot\n",
    "* MATLAB-like\n",
    "* procedural\n",
    "* stateful"
   ]
  },
  {
   "cell_type": "markdown",
   "metadata": {},
   "source": [
    "Stateful interface\n",
    "Example plt.plot(x, y)\n",
    "This calls plt.gca(), which calls plt.gcf(), which calls current figure or creates new one\n",
    "Then fig.clf() which clears the current figure"
   ]
  },
  {
   "cell_type": "markdown",
   "metadata": {},
   "source": [
    "plt.plot() 3 times in a row and it generates a figure, axes and knows to add the plots to the same axes"
   ]
  },
  {
   "cell_type": "markdown",
   "metadata": {},
   "source": [
    "plt.ion() /iof()"
   ]
  },
  {
   "cell_type": "markdown",
   "metadata": {},
   "source": [
    "plt.get_fignums()"
   ]
  }
 ],
 "metadata": {
  "anaconda-cloud": {},
  "kernelspec": {
   "display_name": "Python [default]",
   "language": "python",
   "name": "python2"
  },
  "language_info": {
   "codemirror_mode": {
    "name": "ipython",
    "version": 2
   },
   "file_extension": ".py",
   "mimetype": "text/x-python",
   "name": "python",
   "nbconvert_exporter": "python",
   "pygments_lexer": "ipython2",
   "version": "2.7.12"
  }
 },
 "nbformat": 4,
 "nbformat_minor": 1
}
